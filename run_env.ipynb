{
 "cells": [
  {
   "cell_type": "code",
   "execution_count": 1,
   "metadata": {
    "pycharm": {
     "name": "#%%\n"
    },
    "ExecuteTime": {
     "end_time": "2023-10-11T07:47:49.580975Z",
     "start_time": "2023-10-11T07:47:41.716938Z"
    }
   },
   "outputs": [],
   "source": [
    "import datetime\n",
    "import time\n",
    "from datetime import timedelta\n",
    "from pathlib import Path\n",
    "from pprint import pprint\n",
    "\n",
    "import mpu\n",
    "import nest_asyncio\n",
    "import pandas as pd\n",
    "import rapidjson\n",
    "from freqtrade.configuration import Configuration\n",
    "\n",
    "from lazyft.downloader import download\n",
    "from lazyft.command_parameters import HyperoptParameters\n",
    "from lazyft.strategy import load_strategy\n",
    "from loguru import logger\n",
    "\n",
    "from sklearn.preprocessing import robust_scale\n",
    "from stable_baselines3.common.monitor import Monitor\n",
    "\n",
    "import wandb\n",
    "from trading_environments.my_freqtrade_env import Actions, SagesFreqtradeEnv\n",
    "\n",
    "nest_asyncio.apply()"
   ]
  },
  {
   "cell_type": "markdown",
   "metadata": {
    "pycharm": {
     "name": "#%% md\n"
    }
   },
   "source": [
    "### Config"
   ]
  },
  {
   "cell_type": "code",
   "execution_count": 2,
   "metadata": {
    "pycharm": {
     "name": "#%%\n"
    },
    "ExecuteTime": {
     "end_time": "2023-10-11T07:47:49.589252Z",
     "start_time": "2023-10-11T07:47:49.576320Z"
    }
   },
   "outputs": [
    {
     "name": "stdout",
     "output_type": "stream",
     "text": [
      "Model directory: models\n",
      "Model dict: {}\n",
      "Preprocessed data file: preprocessed/preprocessed_data__BTC_USDT__20180101-20201231__20.pickle\n",
      "Config:\n",
      "{'config': 'configs/config.json',\n",
      " 'learning_time_steps': 4000000,\n",
      " 'load_preprocessed_data': False,\n",
      " 'log_dir': './logs/',\n",
      " 'model_dict': {},\n",
      " 'model_dir': PosixPath('models'),\n",
      " 'pair': 'BTC/USDT',\n",
      " 'preprocessed_data_file': PosixPath('preprocessed/preprocessed_data__BTC_USDT__20180101-20201231__20.pickle'),\n",
      " 'required_startup_candles': 20,\n",
      " 'stake_amount': 100,\n",
      " 'starting_capital': 1000,\n",
      " 'strategy': 'SagesGym5',\n",
      " 'timeframe': '1h',\n",
      " 'training_range': '20180101-20201231',\n",
      " 'window_size': 20}\n"
     ]
    }
   ],
   "source": [
    "STRATEGY = \"SagesGym5\"\n",
    "CONFIG = \"configs/config.json\"\n",
    "PAIR = \"BTC/USDT\"\n",
    "TRAINING_RANGE = \"20180101-20201231\"\n",
    "VALIDATION_RANGE = \"20210101-20211231\"\n",
    "TEST_RANGE = \"20220101-\"\n",
    "TIMEFRAME = \"1h\"\n",
    "freqtrade_config = Configuration.from_files([CONFIG])\n",
    "freqtrade_config[\"timeframe\"] = TIMEFRAME\n",
    "freqtrade_config[\"pairs\"] = [PAIR]\n",
    "WINDOW_SIZE = 20\n",
    "REQUIRED_STARTUP_CANDLES = WINDOW_SIZE\n",
    "STARTING_CAPITAL = 1000\n",
    "STAKE_AMOUNT = 100\n",
    "# endregion\n",
    "\n",
    "# todo load last saved score and use it as a starting point to prevent overwriting\n",
    "MODEL_NAME = \"\"\n",
    "\n",
    "LOAD_PREPROCESSED_DATA = False  # useful if you have to calculate a lot of features\n",
    "SAVE_PREPROCESSED_DATA = True\n",
    "\n",
    "LEARNING_TIME_STEPS = 4000000\n",
    "LOG_DIR = \"./logs/\"\n",
    "# TENSORBOARD_LOG = \"./tensorboard/\"\n",
    "MODEL_DIR = Path(\"./models/\")\n",
    "_preprocessed_data_file = Path(\n",
    "    \"preprocessed\",\n",
    "    f\"preprocessed_data__{PAIR.replace('/', '_')}__{TRAINING_RANGE}__{WINDOW_SIZE}.pickle\",\n",
    ")\n",
    "\"\"\"End of settings\"\"\"\n",
    "INDICATOR_FILTER = [\"date\", \"open\", \"close\", \"high\", \"low\", \"volume\"]\n",
    "\n",
    "# hmm_model = Path(MODEL_DIR, f'btc_hmm.pickle')\n",
    "model_dict_path = MODEL_DIR / \"models.json\"\n",
    "if not model_dict_path.exists():\n",
    "    model_dict = {}\n",
    "else:\n",
    "    model_dict = rapidjson.loads(model_dict_path.read_text())\n",
    "    \n",
    "\n",
    "print('Model directory:', MODEL_DIR)\n",
    "print('Model dict:', model_dict)\n",
    "print('Preprocessed data file:', _preprocessed_data_file)\n",
    "\n",
    "config = {\n",
    "    \"strategy\": STRATEGY,\n",
    "    \"config\": CONFIG,\n",
    "    \"pair\": PAIR,\n",
    "    \"training_range\": TRAINING_RANGE,\n",
    "    \"timeframe\": TIMEFRAME,\n",
    "    \"window_size\": WINDOW_SIZE,\n",
    "    \"required_startup_candles\": REQUIRED_STARTUP_CANDLES,\n",
    "    \"learning_time_steps\": LEARNING_TIME_STEPS,\n",
    "    \"log_dir\": LOG_DIR,\n",
    "    \"model_dir\": MODEL_DIR,\n",
    "    \"model_dict\": model_dict,\n",
    "    \"preprocessed_data_file\": _preprocessed_data_file,\n",
    "    \"load_preprocessed_data\": LOAD_PREPROCESSED_DATA,\n",
    "    # \"policy_kwargs\": POLICY_KWARGS,\n",
    "    \"starting_capital\": STARTING_CAPITAL,\n",
    "    \"stake_amount\": STAKE_AMOUNT,\n",
    "}\n",
    "print('Config:')\n",
    "pprint(config)"
   ]
  },
  {
   "cell_type": "markdown",
   "metadata": {
    "pycharm": {
     "name": "#%% md\n"
    }
   },
   "source": [
    "### Preprocess"
   ]
  },
  {
   "cell_type": "code",
   "execution_count": 15,
   "outputs": [
    {
     "name": "stdout",
     "output_type": "stream",
     "text": [
      "2023-10-11 02:02:04,664 - freqtrade - INFO - freqtrade 2022.12\r\n",
      "2023-10-11 02:02:04,664 - freqtrade.configuration.load_config - INFO - Using config: configs/config.json ...\r\n",
      "2023-10-11 02:02:04,665 - freqtrade.loggers - INFO - Verbosity set to 0\r\n",
      "2023-10-11 02:02:04,665 - freqtrade.configuration.configuration - INFO - Parameter --timerange detected: 20180101-20201231 ...\r\n",
      "2023-10-11 02:02:04,665 - freqtrade.configuration.configuration - INFO - Using user-data directory: user_data ...\r\n",
      "2023-10-11 02:02:04,665 - freqtrade.configuration.directory_operations - INFO - Created data directory: None\r\n",
      "2023-10-11 02:02:04,665 - freqtrade.configuration.configuration - INFO - Using data directory: user_data/data/binanceus ...\r\n",
      "2023-10-11 02:02:04,665 - freqtrade.configuration.configuration - INFO - Using pairs ['BTC/USDT']\r\n",
      "2023-10-11 02:02:04,666 - freqtrade.configuration.configuration - INFO - timeframes --timeframes: ['1h']\r\n",
      "2023-10-11 02:02:04,666 - freqtrade.configuration.configuration - INFO - Filter trades by timerange: 20180101-20201231\r\n",
      "2023-10-11 02:02:04,666 - freqtrade.exchange.check_exchange - INFO - Checking exchange...\r\n",
      "2023-10-11 02:02:04,672 - freqtrade.exchange.check_exchange - INFO - Exchange \"binanceus\" is officially supported by the Freqtrade development team.\r\n",
      "2023-10-11 02:02:04,672 - freqtrade.configuration.deprecated_settings - WARNING - DEPRECATED: The `forcebuy_enable` setting is deprecated and will be removed in the next versions of Freqtrade. Please use the `force_entry_enable` setting in your configuration instead.\r\n",
      "2023-10-11 02:02:04,673 - freqtrade.configuration.config_validation - WARNING - DEPRECATED: Using 'buy' and 'sell' for unfilledtimeout is deprecated.Please migrate your unfilledtimeout settings to use 'entry' and 'exit' wording.\r\n",
      "2023-10-11 02:02:04,673 - freqtrade.configuration.deprecated_settings - WARNING - DEPRECATED: The `unfilledtimeout.buy` setting is deprecated and will be removed in the next versions of Freqtrade. Please use the `unfilledtimeout.entry` setting in your configuration instead.\r\n",
      "2023-10-11 02:02:04,673 - freqtrade.configuration.deprecated_settings - WARNING - DEPRECATED: The `unfilledtimeout.sell` setting is deprecated and will be removed in the next versions of Freqtrade. Please use the `unfilledtimeout.exit` setting in your configuration instead.\r\n",
      "2023-10-11 02:02:04,673 - freqtrade.configuration.config_validation - WARNING - DEPRECATED: Using 'ask_strategy' and 'bid_strategy' is deprecated.Please migrate your settings to use 'entry_pricing' and 'exit_pricing'.\r\n",
      "2023-10-11 02:02:04,673 - freqtrade.configuration.deprecated_settings - WARNING - DEPRECATED: The `bid_strategy.price_side` setting is deprecated and will be removed in the next versions of Freqtrade. Please use the `entry_pricing.price_side` setting in your configuration instead.\r\n",
      "2023-10-11 02:02:04,673 - freqtrade.configuration.deprecated_settings - WARNING - DEPRECATED: The `bid_strategy.ask_last_balance` setting is deprecated and will be removed in the next versions of Freqtrade. Please use the `entry_pricing.price_last_balance` setting in your configuration instead.\r\n",
      "2023-10-11 02:02:04,673 - freqtrade.configuration.deprecated_settings - WARNING - DEPRECATED: The `bid_strategy.use_order_book` setting is deprecated and will be removed in the next versions of Freqtrade. Please use the `entry_pricing.use_order_book` setting in your configuration instead.\r\n",
      "2023-10-11 02:02:04,673 - freqtrade.configuration.deprecated_settings - WARNING - DEPRECATED: The `bid_strategy.order_book_top` setting is deprecated and will be removed in the next versions of Freqtrade. Please use the `entry_pricing.order_book_top` setting in your configuration instead.\r\n",
      "2023-10-11 02:02:04,673 - freqtrade.configuration.deprecated_settings - WARNING - DEPRECATED: The `bid_strategy.check_depth_of_market` setting is deprecated and will be removed in the next versions of Freqtrade. Please use the `entry_pricing.check_depth_of_market` setting in your configuration instead.\r\n",
      "2023-10-11 02:02:04,673 - freqtrade.configuration.deprecated_settings - WARNING - DEPRECATED: The `ask_strategy.price_side` setting is deprecated and will be removed in the next versions of Freqtrade. Please use the `exit_pricing.price_side` setting in your configuration instead.\r\n",
      "2023-10-11 02:02:04,673 - freqtrade.configuration.deprecated_settings - WARNING - DEPRECATED: The `ask_strategy.use_order_book` setting is deprecated and will be removed in the next versions of Freqtrade. Please use the `exit_pricing.use_order_book` setting in your configuration instead.\r\n",
      "2023-10-11 02:02:04,673 - freqtrade.configuration.deprecated_settings - WARNING - DEPRECATED: The `ask_strategy.order_book_top` setting is deprecated and will be removed in the next versions of Freqtrade. Please use the `exit_pricing.order_book_top` setting in your configuration instead.\r\n",
      "2023-10-11 02:02:04,673 - freqtrade.configuration.config_validation - INFO - Validating configuration ...\r\n",
      "2023-10-11 02:02:04,675 - freqtrade.exchange.exchange - INFO - Instance is running with dry_run enabled\r\n",
      "2023-10-11 02:02:04,675 - freqtrade.exchange.exchange - INFO - Using CCXT 2.4.60\r\n",
      "2023-10-11 02:02:04,675 - freqtrade.exchange.exchange - INFO - Applying additional ccxt config: {'enableRateLimit': True}\r\n",
      "2023-10-11 02:02:04,681 - freqtrade.exchange.exchange - INFO - Applying additional ccxt config: {'enableRateLimit': True, 'rateLimit': 200}\r\n",
      "2023-10-11 02:02:04,686 - freqtrade.exchange.exchange - INFO - Using Exchange \"Binance US\"\r\n",
      "2023-10-11 02:02:04,686 - freqtrade.resolvers.exchange_resolver - INFO - Using resolved exchange 'Binance'...\r\n",
      "2023-10-11 02:02:04,686 - freqtrade.exchange.exchange - INFO - Markets were not loaded. Loading them now..\r\n",
      "2023-10-11 02:02:05,288 - freqtrade.commands.data_commands - INFO - About to download pairs: ['BTC/USDT'], intervals: ['1h'] to user_data/data/binanceus\r\n",
      "2023-10-11 02:02:05,288 - freqtrade.data.history.history_utils - INFO - Downloading pair BTC/USDT, interval 1h.\r\n",
      "2023-10-11 02:02:05,290 - freqtrade.data.history.history_utils - INFO - (1/1) - Download history data for \"BTC/USDT\", 1h, CandleType.SPOT and store in user_data/data/binanceus. From 2017-12-31T19:00:00 to 2020-12-30T19:00:00\r\n",
      "2023-10-11 02:02:07,358 - freqtrade.exchange.binance - INFO - Candle-data for BTC/USDT available starting with 2019-09-23T08:00:00+00:00.\r\n",
      "2023-10-11 02:02:09,815 - freqtrade.exchange.exchange - INFO - Downloaded data for BTC/USDT with length 12000.\r\n",
      "/Users/raphael/PycharmProjects/freqgym/venv/lib/python3.11/site-packages/freqtrade/data/converter.py:37: UserWarning: The argument 'infer_datetime_format' is deprecated and will be removed in a future version. A strict version of it is now the default, see https://pandas.pydata.org/pdeps/0004-consistent-to-datetime-parsing.html. You can safely remove this argument.\r\n",
      "  df['date'] = to_datetime(df['date'], unit='ms', utc=True, infer_datetime_format=True)\r\n"
     ]
    }
   ],
   "source": [
    "!freqtrade download-data --config configs/config.json --pairs BTC/USDT --timerange {TRAINING_RANGE} --timeframe {TIMEFRAME} --user-data-dir user_data"
   ],
   "metadata": {
    "collapsed": false,
    "ExecuteTime": {
     "end_time": "2023-10-11T06:02:10.234067Z",
     "start_time": "2023-10-11T06:02:02.667054Z"
    }
   }
  },
  {
   "cell_type": "code",
   "execution_count": 3,
   "metadata": {
    "pycharm": {
     "name": "#%%\n"
    },
    "ExecuteTime": {
     "end_time": "2023-10-11T07:47:49.686600Z",
     "start_time": "2023-10-11T07:47:49.590949Z"
    }
   },
   "outputs": [
    {
     "name": "stderr",
     "output_type": "stream",
     "text": [
      "/Users/raphael/PycharmProjects/freqgym/venv/lib/python3.11/site-packages/freqtrade/data/history/jsondatahandler.py:78: UserWarning: The argument 'infer_datetime_format' is deprecated and will be removed in a future version. A strict version of it is now the default, see https://pandas.pydata.org/pdeps/0004-consistent-to-datetime-parsing.html. You can safely remove this argument.\n",
      "  pairdata['date'] = to_datetime(pairdata['date'],\n",
      "\u001B[32m2023-10-11 03:47:49.651\u001B[0m | \u001B[1mINFO    \u001B[0m | \u001B[36mlazyft.data_loader\u001B[0m:\u001B[36mload_pair_data\u001B[0m:\u001B[36m47\u001B[0m - \u001B[1mLoaded 11153 rows for BTC/USDT @ timeframe 1h, data starts at 2019-09-23 08:00:00+00:00\u001B[0m\n"
     ]
    },
    {
     "name": "stdout",
     "output_type": "stream",
     "text": [
      "Loaded data:\n",
      "                            date  open  high   low  close  volume\n",
      "0     2019-09-23 08:00:00+00:00 9.93K 9.93K 9.93K  9.93K   0.001\n",
      "1     2019-09-23 09:00:00+00:00 9.93K 9.93K 9.93K  9.93K   0.000\n",
      "2     2019-09-23 10:00:00+00:00 9.93K 9.93K 9.93K  9.93K   0.000\n",
      "3     2019-09-23 11:00:00+00:00 9.93K 9.93K 9.93K  9.93K   0.000\n",
      "4     2019-09-23 12:00:00+00:00 9.93K 9.93K 9.93K  9.93K   0.000\n",
      "...                         ...   ...   ...   ...    ...     ...\n",
      "11148 2020-12-30 20:00:00+00:00 28.8K   29K 28.6K  28.8K  11.538\n",
      "11149 2020-12-30 21:00:00+00:00 28.8K   29K 28.6K  28.9K  16.847\n",
      "11150 2020-12-30 22:00:00+00:00 28.9K 28.9K 28.6K  28.7K   4.966\n",
      "11151 2020-12-30 23:00:00+00:00 28.7K 28.9K 28.6K  28.9K  11.346\n",
      "11152 2020-12-31 00:00:00+00:00 28.9K 29.3K 28.9K  29.1K  29.346\n",
      "\n",
      "[11153 rows x 6 columns]\n"
     ]
    }
   ],
   "source": [
    "from freqtrade.data import history\n",
    "from freqtrade.configuration import TimeRange\n",
    "from lazyft.data_loader import load_pair_data\n",
    "\n",
    "timerange = TimeRange.parse_timerange(TRAINING_RANGE)\n",
    "\n",
    "ohlc_data = history.load_data(\n",
    "    datadir=freqtrade_config[\"datadir\"],\n",
    "    pairs=[PAIR],\n",
    "    timeframe=TIMEFRAME,\n",
    "    timerange=timerange,\n",
    "    startup_candles=REQUIRED_STARTUP_CANDLES + 1,\n",
    "    fail_without_data=True,\n",
    "    data_format=freqtrade_config.get(\"dataformat_ohlcv\", \"json\"),\n",
    ")\n",
    "price_data = load_pair_data(PAIR,TIMEFRAME, timerange=TRAINING_RANGE, startup_candles=REQUIRED_STARTUP_CANDLES)\n",
    "print('Loaded data:\\n', price_data)"
   ]
  },
  {
   "cell_type": "code",
   "execution_count": 4,
   "outputs": [],
   "source": [
    "from user_data.strategies import custom_indicators\n",
    "\n",
    "price_data = custom_indicators.add_smi_signal(price_data)\n",
    "price_data = custom_indicators.add_ema_signal(price_data)\n",
    "price_data = custom_indicators.add_sar_signal(price_data)\n",
    "price_data = custom_indicators.add_ha_signal(price_data)\n",
    "price_data = custom_indicators.add_adx_di_signal(price_data)\n",
    "# price_data = custom_indicators.add_donchian_trend_signal(price_data)"
   ],
   "metadata": {
    "collapsed": false,
    "ExecuteTime": {
     "end_time": "2023-10-11T07:47:51.771346Z",
     "start_time": "2023-10-11T07:47:49.658057Z"
    }
   }
  },
  {
   "cell_type": "code",
   "execution_count": 5,
   "outputs": [
    {
     "data": {
      "text/plain": "ema_signal  smi_signal  sar_signal  ha_signal  adx_di_signal\n0           0           0.000       0.000      0                4297\n                                               1                 593\n1           0           0.000       0.000      0                 246\n0           1           0.000       0.000      0                  60\n1           0           0.000       0.000      1                  15\n                                                                ... \n0           0           0.000       0.021      0                   1\n                                               0                   1\n                                               1                   1\n                                               0                   1\n1           1           0.508       0.072      1                   1\nName: count, Length: 5947, dtype: int64"
     },
     "execution_count": 5,
     "metadata": {},
     "output_type": "execute_result"
    }
   ],
   "source": [
    "price_data[[\"ema_signal\", \"smi_signal\", \"sar_signal\", \"ha_signal\", \"adx_di_signal\"]].value_counts()"
   ],
   "metadata": {
    "collapsed": false,
    "ExecuteTime": {
     "end_time": "2023-10-11T07:21:45.646762Z",
     "start_time": "2023-10-11T07:21:45.620655Z"
    }
   }
  },
  {
   "cell_type": "code",
   "execution_count": 6,
   "outputs": [
    {
     "data": {
      "text/plain": "<Figure size 1000x800 with 5 Axes>",
      "image/png": "[encoded data removed]"
     },
     "metadata": {},
     "output_type": "display_data"
    }
   ],
   "source": [
    "import matplotlib.pyplot as plt\n",
    "import mplfinance as mpf\n",
    "\n",
    "\n",
    "price_data = price_data.tail(1000)\n",
    "# Convert 'date' column to datetime\n",
    "# price_data['date'] = pd.to_datetime(price_data['date'])\n",
    "\n",
    "# Set 'date' column as index\n",
    "# price_data.set_index('date', inplace=True)\n",
    "\n",
    "# Create subplots\n",
    "fig, axs = plt.subplots(5, figsize=(10, 8))\n",
    "\n",
    "# Plot OHLC data using a candlestick chart\n",
    "# mpf.plot(price_data, type='candle', ax=axs[0])\n",
    "\n",
    "# Plot SMI signal\n",
    "price_data['smi_signal'].plot(ax=axs[0], title='SMI Signal')\n",
    "\n",
    "# Plot EMA signal\n",
    "price_data['ema_signal'].plot(ax=axs[1], title='EMA Signal')\n",
    "\n",
    "# Plot SAR signal\n",
    "price_data['sar_signal'].plot(ax=axs[2], title='SAR Signal')\n",
    "\n",
    "# Plot HA signal\n",
    "price_data['ha_signal'].plot(ax=axs[3], title='HA Signal')\n",
    "\n",
    "# Plot Donchian Trend signal\n",
    "price_data['adx_di_signal'].plot(ax=axs[4], title='ADX DI Signal')\n",
    "\n",
    "\n",
    "# Show the plot\n",
    "plt.tight_layout()\n",
    "plt.show()\n"
   ],
   "metadata": {
    "collapsed": false,
    "ExecuteTime": {
     "end_time": "2023-10-11T07:22:00.366241Z",
     "start_time": "2023-10-11T07:21:59.632050Z"
    }
   }
  },
  {
   "cell_type": "code",
   "execution_count": 4,
   "metadata": {
    "pycharm": {
     "name": "#%%\n"
    }
   },
   "outputs": [
    {
     "name": "stderr",
     "output_type": "stream",
     "text": [
      "2022-05-04 12:53:30.053 | INFO     | lazyft.downloader:download_missing_historical_data:302 - Checking if download is needed for BTC/USDT @ 5m interval(s)\n",
      "2022-05-04 12:53:30.054 | INFO     | lazyft.downloader:download_missing_historical_data:339 - Data is up to date\n",
      "2022-05-04 12:53:31.058 | INFO     | lazyft.data_loader:load_pair_data:51 - Loaded 315361 rows for BTC/USDT @ timeframe 5m, data starts at 2018-01-01 00:00:00+00:00\n",
      "2022-05-04 12:53:31.059 | INFO     | lazyft.downloader:download_missing_historical_data:302 - Checking if download is needed for BTC/USDT @ 15m interval(s)\n",
      "2022-05-04 12:53:31.060 | INFO     | lazyft.downloader:download_missing_historical_data:339 - Data is up to date\n",
      "2022-05-04 12:53:31.367 | INFO     | lazyft.data_loader:load_pair_data:51 - Loaded 105121 rows for BTC/USDT @ timeframe 15m, data starts at 2018-01-01 00:00:00+00:00\n",
      "2022-05-04 12:53:31.369 | INFO     | lazyft.downloader:download_missing_historical_data:302 - Checking if download is needed for BTC/USDT @ 30m interval(s)\n",
      "2022-05-04 12:53:31.370 | INFO     | lazyft.downloader:download_missing_historical_data:339 - Data is up to date\n",
      "2022-05-04 12:53:31.580 | INFO     | lazyft.data_loader:load_pair_data:51 - Loaded 52561 rows for BTC/USDT @ timeframe 30m, data starts at 2018-01-01 00:00:00+00:00\n",
      "2022-05-04 12:53:31.581 | INFO     | lazyft.downloader:download_missing_historical_data:302 - Checking if download is needed for BTC/USDT @ 1h interval(s)\n",
      "2022-05-04 12:53:31.583 | INFO     | lazyft.downloader:download_missing_historical_data:339 - Data is up to date\n",
      "2022-05-04 12:53:31.651 | INFO     | lazyft.data_loader:load_pair_data:51 - Loaded 26281 rows for BTC/USDT @ timeframe 1h, data starts at 2018-01-01 00:00:00+00:00\n"
     ]
    },
    {
     "name": "stdout",
     "output_type": "stream",
     "text": [
      "Loaded data:\n",
      "                            date  open  high   low  close  volume\n",
      "0     2018-01-01 00:00:00+00:00 13.7K 13.7K 13.4K  13.5K 443.356\n",
      "1     2018-01-01 01:00:00+00:00 13.5K 13.6K 13.2K  13.2K 383.697\n",
      "2     2018-01-01 02:00:00+00:00 13.2K 13.4K 13.2K  13.3K 429.065\n",
      "3     2018-01-01 03:00:00+00:00 13.3K 13.6K 13.3K  13.4K 420.087\n",
      "4     2018-01-01 04:00:00+00:00 13.4K 13.6K 13.3K  13.6K 340.807\n",
      "...                         ...   ...   ...   ...    ...     ...\n",
      "26276 2020-12-30 20:00:00+00:00 28.8K   29K 28.6K  28.8K   4.27K\n",
      "26277 2020-12-30 21:00:00+00:00 28.8K   29K 28.5K  28.9K   3.55K\n",
      "26278 2020-12-30 22:00:00+00:00 28.9K 28.9K 28.6K  28.7K   1.92K\n",
      "26279 2020-12-30 23:00:00+00:00 28.7K 28.9K 28.6K  28.9K   2.18K\n",
      "26280 2020-12-31 00:00:00+00:00 28.9K 29.3K 28.9K  29.1K   5.52K\n",
      "\n",
      "[26281 rows x 6 columns]\n"
     ]
    },
    {
     "name": "stderr",
     "output_type": "stream",
     "text": [
      "2022-05-04 12:54:52.453 | INFO     | trading_environments.data:rolling_generator:104 - Last slice is 19, not 20. Yielding tail of n=20\n"
     ]
    },
    {
     "name": "stdout",
     "output_type": "stream",
     "text": [
      "Price data:\n",
      "        open  high   low  close  volume  return\n",
      "count 26.3K 26.3K 26.3K  26.3K   26.3K   26.3K\n",
      "mean  8.64K 8.68K 8.59K  8.64K   2.07K  -0.005\n",
      "std   3.58K  3.6K 3.55K  3.58K   2.06K   1.631\n",
      "min   3.17K 3.18K 3.16K  3.17K   0.000 -34.720\n",
      "25%   6.54K 6.56K 6.52K  6.54K 962.829  -0.502\n",
      "50%   8.29K 8.34K 8.24K  8.29K   1.49K   0.000\n",
      "75%   10.1K 10.2K 10.1K  10.1K   2.41K   0.498\n",
      "max   28.9K 29.3K 28.9K  29.1K   47.3K  33.109\n",
      "Price data shape: (26281, 7)\n",
      "Price data memory usage: 1.4 MB\n",
      "\n",
      "Input data length: 26242\n",
      "Input data shape: (20, 4)\n",
      "Input data memory usage (MB): 2.55 MB\n"
     ]
    }
   ],
   "source": [
    "from trading_environments.data import MultiTimeFramePairData\n",
    "import sys\n",
    "strategy = load_strategy(STRATEGY, freqtrade_config)\n",
    "parameters = HyperoptParameters(\n",
    "    timerange=TRAINING_RANGE,\n",
    "    interval=TIMEFRAME,\n",
    "    pairs=[PAIR],\n",
    "    config_path=CONFIG,\n",
    ")\n",
    "if LOAD_PREPROCESSED_DATA:\n",
    "    # logger.info(\"Loading preprocessed data from file\")\n",
    "    # assert _preprocessed_data_file.exists(), \"Unable to load preprocessed data!\"\n",
    "    # populated_data = mpu.io.read(str(_preprocessed_data_file))\n",
    "    # assert (\n",
    "    #     PAIR in populated_data\n",
    "    # ), f\"Loaded preprocessed data does not contain pair {PAIR}!\"\n",
    "    # populated_pair_data = populated_data[PAIR]\n",
    "    pass\n",
    "else:\n",
    "    # logger.info(\"Preprocessing data...\")\n",
    "    # populated_data = strategy.advise_all_indicators(ohlc_data)\n",
    "    # populated_pair_data = populated_data[PAIR]\n",
    "    # populated_pair_data.reset_index(drop=True, inplace=True)\n",
    "    # logger.info(\"Dropping rows with NaN values\")\n",
    "    # populated_pair_data.dropna(inplace=True)\n",
    "    # logger.info(f\"Temp new index begins at: {populated_pair_data.index[0]}\")\n",
    "    # populated_pair_data.reset_index(drop=True, inplace=True)\n",
    "\n",
    "    # if SAVE_PREPROCESSED_DATA:\n",
    "    #     logger.info(\"Saving preprocessed data to file\")\n",
    "    #     mpu.io.write(str(_preprocessed_data_file), {PAIR: populated_pair_data})\n",
    "    pass\n",
    "m = MultiTimeFramePairData(\"BTC/USDT\", [\"1h\"], TRAINING_RANGE)\n",
    "\n",
    "\n",
    "price_data = m.data[m.highest_timeframe].data\n",
    "\n",
    "print('Loaded data:\\n', price_data)\n",
    "\n",
    "def add_return(df: pd.DataFrame, x: str, y: str):\n",
    "    df[y] = df[x].pct_change()\n",
    "    df[y] = robust_scale(df[y])\n",
    "    return df\n",
    "\n",
    "\n",
    "m.do_func_on_data(add_return, \"close\", \"return\")\n",
    "data = m.create_combined_data(\"return\", window=WINDOW_SIZE)\n",
    "# price_data = ohlc_data[PAIR]\n",
    "# price_data[\"return\"] = price_data[\"close\"].pct_change(1)\n",
    "# price_data['volume_return'] = price_data['volume'].pct_change(1)\n",
    "# price_data = price_data.fillna(0)\n",
    "# remove price data with 0 volume\n",
    "# price_data = price_data[price_data[\"volume\"] > 0]\n",
    "# for c in INDICATOR_FILTER:\n",
    "#     # remove every column that contains a substring of c\n",
    "#     indicators = indicators.drop(columns=[col for col in indicators.columns if c in col])\n",
    "# indicators.fillna(0, inplace=True)\n",
    "# input_data = price_data[[\"return\"]]\n",
    "# input_data['return'] = input_data['close'].pct_change()\n",
    "# input_data = input_data.dropna()\n",
    "\n",
    "# input_data = pd.DataFrame(\n",
    "#     robust_scale(input_data.values),\n",
    "#     columns=input_data.columns,\n",
    "#     index=input_data.index,\n",
    "# )\n",
    "\n",
    "# input_data[\"date\"] = price_data[\"date\"]\n",
    "\n",
    "config.update(\n",
    "    {\n",
    "        \"input_shape\": list(data.values())[0].shape,\n",
    "        # \"input_columns\": input_data.columns.to_list(),\n",
    "    }\n",
    ")\n",
    "\n",
    "print(\"Price data:\\n\", price_data.describe())\n",
    "print(\"Price data shape:\", price_data.shape)\n",
    "print(\n",
    "    \"Price data memory usage:\",\n",
    "    round(price_data.memory_usage(index=True).sum() / 1024**2, 2),\n",
    "    \"MB\",\n",
    ")\n",
    "print()\n",
    "# print(\"Input data:\\n\", list(data.values()))\n",
    "print(\"Input data length:\", len(data))\n",
    "print(\"Input data shape:\", list(data.values())[0].shape)\n",
    "print(\n",
    "    \"Input data memory usage (MB):\",\n",
    "    round(sys.getsizeof(data) / 1024**2, 2),\n",
    "    \"MB\",\n",
    ")\n"
   ]
  },
  {
   "cell_type": "markdown",
   "metadata": {
    "pycharm": {
     "name": "#%% md\n"
    }
   },
   "source": [
    "### Env"
   ]
  },
  {
   "cell_type": "code",
   "execution_count": 5,
   "outputs": [],
   "source": [
    "selected_data = price_data[[\"date\", \"adx_di_signal\", \"ha_signal\", \"sar_signal\", \"smi_signal\", \"ema_signal\"]]\n",
    "\n",
    "selected_data_dict = {row['date']: row[1:].values for _, row in selected_data.iterrows()}\n"
   ],
   "metadata": {
    "collapsed": false,
    "ExecuteTime": {
     "end_time": "2023-10-11T07:48:00.711695Z",
     "start_time": "2023-10-11T07:48:00.327075Z"
    }
   }
  },
  {
   "cell_type": "code",
   "execution_count": 6,
   "metadata": {
    "pycharm": {
     "name": "#%%\n"
    },
    "ExecuteTime": {
     "end_time": "2023-10-11T07:48:02.990262Z",
     "start_time": "2023-10-11T07:48:02.548102Z"
    }
   },
   "outputs": [
    {
     "name": "stderr",
     "output_type": "stream",
     "text": [
      "/Users/raphael/PycharmProjects/freqgym/venv/lib/python3.11/site-packages/gym/envs/registration.py:498: UserWarning: \u001B[33mWARN: Overriding environment MyFreqtradeEnv-v3 already in registry.\u001B[0m\n",
      "  logger.warn(f\"Overriding environment {new_spec.id} already in registry.\")\n",
      "\u001B[32m2023-10-11 03:48:02.578\u001B[0m | \u001B[1mINFO    \u001B[0m | \u001B[36mtrading_environments.my_freqtrade_env4\u001B[0m:\u001B[36m__init__\u001B[0m:\u001B[36m127\u001B[0m - \u001B[1mObservation space: Box(0.0, 1.0, (5,), float32)\u001B[0m\n",
      "\u001B[32m2023-10-11 03:48:02.578\u001B[0m | \u001B[1mINFO    \u001B[0m | \u001B[36mtrading_environments.my_freqtrade_env4\u001B[0m:\u001B[36m__init__\u001B[0m:\u001B[36m137\u001B[0m - \u001B[1mPrices columns: ['date', 'open', 'close', 'high', 'low', 'volume'], shape: (11153, 6)\u001B[0m\n"
     ]
    },
    {
     "ename": "TypeError",
     "evalue": "The reset() method must accept a `seed` parameter",
     "output_type": "error",
     "traceback": [
      "\u001B[0;31m---------------------------------------------------------------------------\u001B[0m",
      "\u001B[0;31mTypeError\u001B[0m                                 Traceback (most recent call last)",
      "File \u001B[0;32m~/PycharmProjects/freqgym/venv/lib/python3.11/site-packages/stable_baselines3/common/env_checker.py:408\u001B[0m, in \u001B[0;36mcheck_env\u001B[0;34m(env, warn, skip_render_check)\u001B[0m\n\u001B[1;32m    407\u001B[0m \u001B[38;5;28;01mtry\u001B[39;00m:\n\u001B[0;32m--> 408\u001B[0m     \u001B[43menv\u001B[49m\u001B[38;5;241;43m.\u001B[39;49m\u001B[43mreset\u001B[49m\u001B[43m(\u001B[49m\u001B[43mseed\u001B[49m\u001B[38;5;241;43m=\u001B[39;49m\u001B[38;5;241;43m0\u001B[39;49m\u001B[43m)\u001B[49m\n\u001B[1;32m    409\u001B[0m \u001B[38;5;28;01mexcept\u001B[39;00m \u001B[38;5;167;01mTypeError\u001B[39;00m \u001B[38;5;28;01mas\u001B[39;00m e:\n",
      "\u001B[0;31mTypeError\u001B[0m: SagesFreqtradeEnv4.reset() got an unexpected keyword argument 'seed'",
      "\nThe above exception was the direct cause of the following exception:\n",
      "\u001B[0;31mTypeError\u001B[0m                                 Traceback (most recent call last)",
      "Cell \u001B[0;32mIn[6], line 15\u001B[0m\n\u001B[1;32m      5\u001B[0m \u001B[38;5;28;01mfrom\u001B[39;00m \u001B[38;5;21;01mstable_baselines3\u001B[39;00m\u001B[38;5;21;01m.\u001B[39;00m\u001B[38;5;21;01mcommon\u001B[39;00m\u001B[38;5;21;01m.\u001B[39;00m\u001B[38;5;21;01mutils\u001B[39;00m \u001B[38;5;28;01mimport\u001B[39;00m set_random_seed\n\u001B[1;32m      6\u001B[0m env \u001B[38;5;241m=\u001B[39m SagesFreqtradeEnv4(\n\u001B[1;32m      7\u001B[0m     data\u001B[38;5;241m=\u001B[39mselected_data_dict,\n\u001B[1;32m      8\u001B[0m     prices\u001B[38;5;241m=\u001B[39mprice_data[[\u001B[38;5;124m\"\u001B[39m\u001B[38;5;124mdate\u001B[39m\u001B[38;5;124m\"\u001B[39m, \u001B[38;5;124m\"\u001B[39m\u001B[38;5;124mopen\u001B[39m\u001B[38;5;124m\"\u001B[39m, \u001B[38;5;124m\"\u001B[39m\u001B[38;5;124mclose\u001B[39m\u001B[38;5;124m\"\u001B[39m, \u001B[38;5;124m\"\u001B[39m\u001B[38;5;124mhigh\u001B[39m\u001B[38;5;124m\"\u001B[39m, \u001B[38;5;124m\"\u001B[39m\u001B[38;5;124mlow\u001B[39m\u001B[38;5;124m\"\u001B[39m, \u001B[38;5;124m\"\u001B[39m\u001B[38;5;124mvolume\u001B[39m\u001B[38;5;124m\"\u001B[39m]],\n\u001B[0;32m   (...)\u001B[0m\n\u001B[1;32m     13\u001B[0m     punish_holding_amount\u001B[38;5;241m=\u001B[39m\u001B[38;5;241m-\u001B[39m\u001B[38;5;241m2\u001B[39m,\n\u001B[1;32m     14\u001B[0m )\n\u001B[0;32m---> 15\u001B[0m \u001B[43mcheck_env\u001B[49m\u001B[43m(\u001B[49m\u001B[43menv\u001B[49m\u001B[43m)\u001B[49m\n\u001B[1;32m     16\u001B[0m trading_env \u001B[38;5;241m=\u001B[39m Monitor(env, LOG_DIR)\n\u001B[1;32m     17\u001B[0m set_random_seed(\u001B[38;5;241m1111\u001B[39m, using_cuda\u001B[38;5;241m=\u001B[39m\u001B[38;5;28;01mTrue\u001B[39;00m)\n",
      "File \u001B[0;32m~/PycharmProjects/freqgym/venv/lib/python3.11/site-packages/stable_baselines3/common/env_checker.py:410\u001B[0m, in \u001B[0;36mcheck_env\u001B[0;34m(env, warn, skip_render_check)\u001B[0m\n\u001B[1;32m    408\u001B[0m     env\u001B[38;5;241m.\u001B[39mreset(seed\u001B[38;5;241m=\u001B[39m\u001B[38;5;241m0\u001B[39m)\n\u001B[1;32m    409\u001B[0m \u001B[38;5;28;01mexcept\u001B[39;00m \u001B[38;5;167;01mTypeError\u001B[39;00m \u001B[38;5;28;01mas\u001B[39;00m e:\n\u001B[0;32m--> 410\u001B[0m     \u001B[38;5;28;01mraise\u001B[39;00m \u001B[38;5;167;01mTypeError\u001B[39;00m(\u001B[38;5;124m\"\u001B[39m\u001B[38;5;124mThe reset() method must accept a `seed` parameter\u001B[39m\u001B[38;5;124m\"\u001B[39m) \u001B[38;5;28;01mfrom\u001B[39;00m \u001B[38;5;21;01me\u001B[39;00m\n\u001B[1;32m    412\u001B[0m \u001B[38;5;66;03m# Warn the user if needed.\u001B[39;00m\n\u001B[1;32m    413\u001B[0m \u001B[38;5;66;03m# A warning means that the environment may run but not work properly with Stable Baselines algorithms\u001B[39;00m\n\u001B[1;32m    414\u001B[0m \u001B[38;5;28;01mif\u001B[39;00m warn:\n",
      "\u001B[0;31mTypeError\u001B[0m: The reset() method must accept a `seed` parameter"
     ]
    }
   ],
   "source": [
    "\n",
    "from trading_environments.my_freqtrade_env2 import Actions, SagesFreqtradeEnv2\n",
    "from trading_environments.my_freqtrade_env3 import Actions, SagesFreqtradeEnv3\n",
    "from trading_environments.my_freqtrade_env4 import Actions, SagesFreqtradeEnv4\n",
    "from stable_baselines3.common.env_checker import check_env\n",
    "from stable_baselines3.common.utils import set_random_seed\n",
    "env = SagesFreqtradeEnv4(\n",
    "    data=selected_data_dict,\n",
    "    prices=price_data[[\"date\", \"open\", \"close\", \"high\", \"low\", \"volume\"]],\n",
    "    window_size=WINDOW_SIZE,  # how many past candles should it use as features\n",
    "    pair=PAIR,\n",
    "    stake_amount=STAKE_AMOUNT,\n",
    "    starting_balance=STARTING_CAPITAL,\n",
    "    punish_holding_amount=-2,\n",
    ")\n",
    "check_env(env)\n",
    "trading_env = Monitor(env, LOG_DIR)\n",
    "set_random_seed(1111, using_cuda=True)\n",
    "config['action_shape'] = len(Actions)\n",
    "config['punish_holding_amount'] = env.punish_holding_amount\n"
   ]
  },
  {
   "cell_type": "code",
   "execution_count": 6,
   "metadata": {
    "pycharm": {
     "name": "#%%\n"
    }
   },
   "outputs": [
    {
     "data": {
      "text/plain": [
       "array([[ 2.56959435e+00, -5.85788196e-01,  4.74779691e-01,\n",
       "         4.06305643e+00],\n",
       "       [-4.18975980e-01,  1.58682650e-01, -6.43056138e-01,\n",
       "         3.07253255e+00],\n",
       "       [ 3.22001877e+00,  9.05488330e-01, -9.32164109e-01,\n",
       "         1.75491432e+00],\n",
       "       [-9.25284582e-01,  9.59170887e-01, -1.24781633e-01,\n",
       "        -2.87824969e+00],\n",
       "       [-2.12019181e+00,  3.58511777e-03,  5.72521066e-01,\n",
       "         2.27793534e+00],\n",
       "       [-6.14703330e+00,  5.85964046e-01,  8.59442801e-01,\n",
       "         1.91944562e+00],\n",
       "       [-8.62991004e-01, -7.46159079e-01, -5.34865435e-03,\n",
       "         5.83477434e-01],\n",
       "       [ 3.60118996e+00,  6.74180699e-01, -2.64498676e+00,\n",
       "        -1.00645937e+00],\n",
       "       [-3.64016440e+00, -1.31340098e+00,  8.02891008e-01,\n",
       "        -2.16985621e-01],\n",
       "       [ 5.32377208e+00,  2.40924807e-01, -4.19877971e-01,\n",
       "        -3.40271655e+00],\n",
       "       [-8.49946960e-01,  1.23603335e+00,  1.74863748e+00,\n",
       "        -1.23537257e-01],\n",
       "       [ 3.12199694e+00,  3.81976902e-02,  3.28549398e+00,\n",
       "        -7.65581274e-01],\n",
       "       [-3.17831739e-01,  1.99729247e-01, -1.33931492e+00,\n",
       "         1.03577061e+00],\n",
       "       [-2.68404721e+00, -1.47081778e+00, -7.08194308e-02,\n",
       "        -1.91851758e+00],\n",
       "       [-6.61457410e-01, -1.47127841e-01,  1.11210685e+00,\n",
       "         2.75225076e-01],\n",
       "       [-6.62737964e-01, -6.50474123e-01,  3.00768847e-01,\n",
       "         3.65243337e+00],\n",
       "       [ 2.91231348e+00,  3.19405081e-01,  9.00925621e-02,\n",
       "        -1.02113718e+00],\n",
       "       [-5.17620017e-03, -3.99041813e-04, -7.43737178e-01,\n",
       "         1.02164057e+00],\n",
       "       [-1.63920230e+00, -3.11212919e+00, -2.92211676e-01,\n",
       "        -4.74188746e-01],\n",
       "       [ 1.52259468e+00, -4.04753742e-01, -2.10829181e+00,\n",
       "        -1.73655256e+00]])"
      ]
     },
     "execution_count": 6,
     "metadata": {},
     "output_type": "execute_result"
    }
   ],
   "source": [
    "env._get_observation()"
   ]
  },
  {
   "cell_type": "code",
   "execution_count": 7,
   "metadata": {
    "pycharm": {
     "name": "#%%\n"
    }
   },
   "outputs": [
    {
     "data": {
      "text/plain": [
       "array([[ 1.5537229 , -0.15493975, -0.76748437,  0.62240978],\n",
       "       [ 1.70844037, -0.19616313,  0.87127057,  0.58447959],\n",
       "       [-0.02748547, -0.54476651,  0.12766414, -0.54722132],\n",
       "       [-1.2015955 , -1.10933422, -0.43089147, -0.58296544],\n",
       "       [-0.97739853, -1.59169037,  0.06911166, -0.51772149],\n",
       "       [-0.08076266,  0.19974753, -0.35850264,  1.49374754],\n",
       "       [-0.31399558, -0.57712608,  0.21876023,  1.04346274],\n",
       "       [-0.09467324, -0.15371646,  0.19230476, -0.91773479],\n",
       "       [-2.21489437, -0.68299387, -0.5376796 ,  0.58020488],\n",
       "       [-0.36100386, -1.09943399,  1.25787313,  0.33316256],\n",
       "       [ 0.7627274 , -0.5905462 , -0.22939408, -0.8489011 ],\n",
       "       [ 0.43431793,  0.1607605 , -1.13981759,  0.20517348],\n",
       "       [-0.69449624,  0.71225198, -0.67777628,  0.0369299 ],\n",
       "       [-1.12951983,  0.52850326, -0.49056839,  0.24931994],\n",
       "       [-0.19796866,  0.40951777,  0.70556501, -0.29172627],\n",
       "       [-2.30306907, -0.49419885,  1.02528629, -1.00170813],\n",
       "       [-1.75258368,  0.41729035, -1.25491293, -1.30479807],\n",
       "       [-0.45677433, -1.5222057 , -2.34678448,  0.40861849],\n",
       "       [ 0.26954833,  0.83051148,  0.81997797,  0.95376276],\n",
       "       [-0.49650937, -0.40980603, -0.86641684,  0.28213804]])"
      ]
     },
     "execution_count": 7,
     "metadata": {},
     "output_type": "execute_result"
    }
   ],
   "source": [
    "from pprint import pprint\n",
    "# print('space:', env.observation_space)\n",
    "env.observation_space.sample()"
   ]
  },
  {
   "cell_type": "markdown",
   "metadata": {
    "pycharm": {
     "name": "#%% md\n"
    }
   },
   "source": [
    "### Model"
   ]
  },
  {
   "cell_type": "code",
   "execution_count": 8,
   "metadata": {
    "pycharm": {
     "name": "#%%\n"
    }
   },
   "outputs": [
    {
     "name": "stderr",
     "output_type": "stream",
     "text": [
      "2022-05-04 12:54:53.950 | INFO     | trading_environments.my_freqtrade_env4:set_log_dir:537 - Log directory set to trade_logs/20220504_125453\n"
     ]
    },
    {
     "name": "stdout",
     "output_type": "stream",
     "text": [
      "SagesGym5_SagesFreqtradeEnv4_RecurrentPPO_20220504_125453\n"
     ]
    }
   ],
   "source": [
    "from pathlib import Path\n",
    "from tb_callbacks import SaveOnStepCallback\n",
    "from stable_baselines3 import DQN\n",
    "from sb3_contrib.ppo_recurrent import RecurrentPPO\n",
    "from sb3_contrib.qrdqn import QRDQN\n",
    "\n",
    "\n",
    "# POLICY_KWARGS = dict(net_arch=[128, 128])\n",
    "\n",
    "if MODEL_NAME:\n",
    "        # load existing model\n",
    "        model = RecurrentPPO.load(\n",
    "            MODEL_DIR / MODEL_NAME.strip(\".zip\"),\n",
    "            # tensorboard_log=TENSORBOARD_LOG,\n",
    "        )\n",
    "        logger.success(f\"Loaded model from {MODEL_DIR / MODEL_NAME}\")\n",
    "        model.set_env(trading_env)\n",
    "else:\n",
    "    # policy = RecurrentActorCriticPolicy\n",
    "    model = RecurrentPPO(\n",
    "        # See https://stable-baselines3.readthedocs.io/en/master/guide/algos.html for other algos with discrete action space\n",
    "        # \"MultiInputLstmPolicy\",\n",
    "        \"MlpLstmPolicy\",\n",
    "        # \"MlpPolicy\",\n",
    "        trading_env,\n",
    "        verbose=0,\n",
    "        device=\"cuda\",\n",
    "        # tensorboard_log=TENSORBOARD_LOG,\n",
    "        n_steps=len(data) - WINDOW_SIZE,\n",
    "        # gradient_steps=-1,\n",
    "        gamma=0.9,\n",
    "        learning_rate=0.0001,\n",
    "        # ent_coef=0.0001123894292050861,\n",
    "        # gae_lambda=0.8789545362092943,\n",
    "        # reuse=True\n",
    "        # policy_kwargs=POLICY_KWARGS,\n",
    "    )\n",
    "start_date = datetime.datetime.now().strftime(\"%Y%m%d_%H%M%S\")\n",
    "base_name = f\"{STRATEGY}_{trading_env.env.__class__.__name__}_{model.__class__.__name__}_{start_date}\"\n",
    "tb_callback = SaveOnStepCallback(\n",
    "    check_freq=len(data)*5,\n",
    "    save_name=f\"best_model_{base_name}\",\n",
    "    save_dir=str(MODEL_DIR),\n",
    "    log_dir=LOG_DIR,\n",
    "    verbose=1,\n",
    ")\n",
    "config['model_type'] = model.__class__.__name__\n",
    "config['save_name'] = base_name\n",
    "env.set_log_dir(Path('trade_logs', start_date))\n",
    "print(base_name)"
   ]
  },
  {
   "cell_type": "code",
   "execution_count": 9,
   "metadata": {
    "pycharm": {
     "name": "#%%\n"
    }
   },
   "outputs": [
    {
     "name": "stdout",
     "output_type": "stream",
     "text": [
      "RecurrentActorCriticPolicy(\n",
      "  (features_extractor): FlattenExtractor(\n",
      "    (flatten): Flatten(start_dim=1, end_dim=-1)\n",
      "  )\n",
      "  (mlp_extractor): MlpExtractor(\n",
      "    (shared_net): Sequential()\n",
      "    (policy_net): Sequential(\n",
      "      (0): Linear(in_features=256, out_features=64, bias=True)\n",
      "      (1): Tanh()\n",
      "      (2): Linear(in_features=64, out_features=64, bias=True)\n",
      "      (3): Tanh()\n",
      "    )\n",
      "    (value_net): Sequential(\n",
      "      (0): Linear(in_features=256, out_features=64, bias=True)\n",
      "      (1): Tanh()\n",
      "      (2): Linear(in_features=64, out_features=64, bias=True)\n",
      "      (3): Tanh()\n",
      "    )\n",
      "  )\n",
      "  (action_net): Linear(in_features=64, out_features=3, bias=True)\n",
      "  (value_net): Linear(in_features=64, out_features=1, bias=True)\n",
      "  (lstm_actor): LSTM(80, 256)\n",
      "  (critic): Linear(in_features=80, out_features=256, bias=True)\n",
      ")\n",
      "FlattenExtractor(\n",
      "  (flatten): Flatten(start_dim=1, end_dim=-1)\n",
      ")\n",
      "Flatten(start_dim=1, end_dim=-1)\n",
      "MlpExtractor(\n",
      "  (shared_net): Sequential()\n",
      "  (policy_net): Sequential(\n",
      "    (0): Linear(in_features=256, out_features=64, bias=True)\n",
      "    (1): Tanh()\n",
      "    (2): Linear(in_features=64, out_features=64, bias=True)\n",
      "    (3): Tanh()\n",
      "  )\n",
      "  (value_net): Sequential(\n",
      "    (0): Linear(in_features=256, out_features=64, bias=True)\n",
      "    (1): Tanh()\n",
      "    (2): Linear(in_features=64, out_features=64, bias=True)\n",
      "    (3): Tanh()\n",
      "  )\n",
      ")\n",
      "Sequential()\n",
      "Sequential(\n",
      "  (0): Linear(in_features=256, out_features=64, bias=True)\n",
      "  (1): Tanh()\n",
      "  (2): Linear(in_features=64, out_features=64, bias=True)\n",
      "  (3): Tanh()\n",
      ")\n",
      "Linear(in_features=256, out_features=64, bias=True)\n",
      "Tanh()\n",
      "Linear(in_features=64, out_features=64, bias=True)\n",
      "Tanh()\n",
      "Sequential(\n",
      "  (0): Linear(in_features=256, out_features=64, bias=True)\n",
      "  (1): Tanh()\n",
      "  (2): Linear(in_features=64, out_features=64, bias=True)\n",
      "  (3): Tanh()\n",
      ")\n",
      "Linear(in_features=256, out_features=64, bias=True)\n",
      "Tanh()\n",
      "Linear(in_features=64, out_features=64, bias=True)\n",
      "Tanh()\n",
      "Linear(in_features=64, out_features=3, bias=True)\n",
      "Linear(in_features=64, out_features=1, bias=True)\n",
      "LSTM(80, 256)\n",
      "Linear(in_features=80, out_features=256, bias=True)\n"
     ]
    }
   ],
   "source": [
    "for m in model.policy.modules():\n",
    "    print(m)"
   ]
  },
  {
   "cell_type": "markdown",
   "metadata": {
    "pycharm": {
     "name": "#%% md\n"
    }
   },
   "source": [
    "### Train"
   ]
  },
  {
   "cell_type": "code",
   "execution_count": 10,
   "metadata": {
    "pycharm": {
     "name": "#%%\n"
    }
   },
   "outputs": [
    {
     "name": "stderr",
     "output_type": "stream",
     "text": [
      "\u001B[34m\u001B[1mwandb\u001B[0m: Currently logged in as: \u001B[33mrtnanje\u001B[0m. Use \u001B[1m`wandb login --relogin`\u001B[0m to force relogin\n"
     ]
    },
    {
     "data": {
      "text/html": [
       "Tracking run with wandb version 0.12.16"
      ],
      "text/plain": [
       "<IPython.core.display.HTML object>"
      ]
     },
     "metadata": {},
     "output_type": "display_data"
    },
    {
     "data": {
      "text/html": [
       "Run data is saved locally in <code>/home/raphael/PycharmProjects/freqgym/wandb/run-20220504_125454-o2byzi0r</code>"
      ],
      "text/plain": [
       "<IPython.core.display.HTML object>"
      ]
     },
     "metadata": {},
     "output_type": "display_data"
    },
    {
     "data": {
      "text/html": [
       "Syncing run <strong><a href=\"https://wandb.ai/rtnanje/freqgym/runs/o2byzi0r\" target=\"_blank\">tusken-admiral-70</a></strong> to <a href=\"https://wandb.ai/rtnanje/freqgym\" target=\"_blank\">Weights & Biases</a> (<a href=\"https://wandb.me/run\" target=\"_blank\">docs</a>)<br/>"
      ],
      "text/plain": [
       "<IPython.core.display.HTML object>"
      ]
     },
     "metadata": {},
     "output_type": "display_data"
    }
   ],
   "source": [
    "run = wandb.init(project=\"freqgym\", entity=\"rtnanje\", config=config)"
   ]
  },
  {
   "cell_type": "code",
   "execution_count": 11,
   "metadata": {
    "pycharm": {
     "name": "#%%\n"
    }
   },
   "outputs": [
    {
     "name": "stderr",
     "output_type": "stream",
     "text": [
      "2022-05-04 12:54:57.094 | INFO     | __main__:<cell line: 3>:3 - Learning started.\n",
      "2022-05-04 12:56:17.201 | INFO     | trading_environments.my_freqtrade_env4:step:455 - Out of capital. Trades made: 928\n",
      "2022-05-04 12:57:21.702 | INFO     | trading_environments.my_freqtrade_env4:step:455 - Out of capital. Trades made: 852\n",
      "2022-05-04 12:58:22.010 | INFO     | trading_environments.my_freqtrade_env4:step:455 - Out of capital. Trades made: 823\n",
      "2022-05-04 12:59:26.061 | INFO     | trading_environments.my_freqtrade_env4:step:455 - Out of capital. Trades made: 855\n",
      "2022-05-04 13:00:30.311 | INFO     | trading_environments.my_freqtrade_env4:step:455 - Out of capital. Trades made: 856\n",
      "2022-05-04 13:01:54.451 | INFO     | trading_environments.my_freqtrade_env4:step:455 - Out of capital. Trades made: 935\n",
      "2022-05-04 13:02:46.002 | INFO     | trading_environments.my_freqtrade_env4:step:455 - Out of capital. Trades made: 830\n",
      "2022-05-04 13:03:55.232 | INFO     | trading_environments.my_freqtrade_env4:step:455 - Out of capital. Trades made: 950\n",
      "2022-05-04 13:04:51.014 | INFO     | trading_environments.my_freqtrade_env4:step:455 - Out of capital. Trades made: 854\n",
      "2022-05-04 13:05:50.782 | INFO     | trading_environments.my_freqtrade_env4:step:455 - Out of capital. Trades made: 867\n",
      "2022-05-04 13:07:10.274 | INFO     | trading_environments.my_freqtrade_env4:step:455 - Out of capital. Trades made: 937\n",
      "2022-05-04 13:07:59.178 | INFO     | trading_environments.my_freqtrade_env4:step:455 - Out of capital. Trades made: 865\n",
      "2022-05-04 13:08:54.914 | INFO     | trading_environments.my_freqtrade_env4:step:455 - Out of capital. Trades made: 928\n",
      "2022-05-04 13:09:43.761 | INFO     | trading_environments.my_freqtrade_env4:step:455 - Out of capital. Trades made: 843\n",
      "2022-05-04 13:10:33.597 | INFO     | trading_environments.my_freqtrade_env4:step:455 - Out of capital. Trades made: 868\n",
      "2022-05-04 13:11:29.516 | INFO     | trading_environments.my_freqtrade_env4:step:455 - Out of capital. Trades made: 911\n",
      "2022-05-04 13:12:18.693 | INFO     | trading_environments.my_freqtrade_env4:step:455 - Out of capital. Trades made: 865\n",
      "2022-05-04 13:13:33.326 | INFO     | trading_environments.my_freqtrade_env4:step:455 - Out of capital. Trades made: 949\n",
      "2022-05-04 13:14:30.786 | INFO     | trading_environments.my_freqtrade_env4:step:455 - Out of capital. Trades made: 957\n",
      "2022-05-04 13:15:30.178 | INFO     | trading_environments.my_freqtrade_env4:step:455 - Out of capital. Trades made: 970\n",
      "2022-05-04 13:16:34.853 | INFO     | trading_environments.my_freqtrade_env4:step:455 - Out of capital. Trades made: 1008\n",
      "2022-05-04 13:17:27.583 | INFO     | trading_environments.my_freqtrade_env4:step:455 - Out of capital. Trades made: 893\n",
      "2022-05-04 13:18:38.287 | INFO     | trading_environments.my_freqtrade_env4:step:455 - Out of capital. Trades made: 1071\n",
      "2022-05-04 13:20:16.128 | INFO     | trading_environments.my_freqtrade_env4:step:455 - Out of capital. Trades made: 1112\n",
      "2022-05-04 13:21:38.040 | INFO     | trading_environments.my_freqtrade_env4:step:455 - Out of capital. Trades made: 1144\n",
      "2022-05-04 13:22:52.422 | INFO     | trading_environments.my_freqtrade_env4:step:455 - Out of capital. Trades made: 1086\n",
      "2022-05-04 13:24:09.910 | INFO     | trading_environments.my_freqtrade_env4:step:455 - Out of capital. Trades made: 1115\n",
      "2022-05-04 13:25:37.142 | INFO     | trading_environments.my_freqtrade_env4:step:455 - Out of capital. Trades made: 1161\n",
      "2022-05-04 13:27:19.823 | INFO     | trading_environments.my_freqtrade_env4:step:455 - Out of capital. Trades made: 1111\n",
      "2022-05-04 13:29:03.246 | INFO     | trading_environments.my_freqtrade_env4:step:455 - Out of capital. Trades made: 1258\n",
      "2022-05-04 13:30:59.269 | INFO     | trading_environments.my_freqtrade_env4:step:455 - Out of capital. Trades made: 1303\n",
      "2022-05-04 13:32:47.429 | INFO     | trading_environments.my_freqtrade_env4:step:455 - Out of capital. Trades made: 1286\n",
      "2022-05-04 13:34:33.961 | INFO     | trading_environments.my_freqtrade_env4:step:455 - Out of capital. Trades made: 1269\n",
      "2022-05-04 13:37:02.312 | INFO     | trading_environments.my_freqtrade_env4:step:455 - Out of capital. Trades made: 1305\n"
     ]
    },
    {
     "ename": "KeyboardInterrupt",
     "evalue": "",
     "output_type": "error",
     "traceback": [
      "\u001B[0;31m---------------------------------------------------------------------------\u001B[0m",
      "\u001B[0;31mKeyboardInterrupt\u001B[0m                         Traceback (most recent call last)",
      "\u001B[1;32m/home/raphael/PycharmProjects/freqgym/run_env.ipynb Cell 16'\u001B[0m in \u001B[0;36m<cell line: 11>\u001B[0;34m()\u001B[0m\n\u001B[1;32m      <a href='vscode-notebook-cell:/home/raphael/PycharmProjects/freqgym/run_env.ipynb#ch0000013?line=3'>4</a>\u001B[0m callback \u001B[39m=\u001B[39m WandbCallback(\n\u001B[1;32m      <a href='vscode-notebook-cell:/home/raphael/PycharmProjects/freqgym/run_env.ipynb#ch0000013?line=4'>5</a>\u001B[0m     model_save_path\u001B[39m=\u001B[39m\u001B[39mf\u001B[39m\u001B[39m\"\u001B[39m\u001B[39mmodels/best_model_\u001B[39m\u001B[39m{\u001B[39;00mrun\u001B[39m.\u001B[39mid\u001B[39m}\u001B[39;00m\u001B[39m\"\u001B[39m,\n\u001B[1;32m      <a href='vscode-notebook-cell:/home/raphael/PycharmProjects/freqgym/run_env.ipynb#ch0000013?line=5'>6</a>\u001B[0m     verbose\u001B[39m=\u001B[39m\u001B[39m2\u001B[39m,\n\u001B[1;32m      <a href='vscode-notebook-cell:/home/raphael/PycharmProjects/freqgym/run_env.ipynb#ch0000013?line=6'>7</a>\u001B[0m     model_save_freq\u001B[39m=\u001B[39m\u001B[39mlen\u001B[39m(data) \u001B[39m*\u001B[39m \u001B[39m5\u001B[39m,\n\u001B[1;32m      <a href='vscode-notebook-cell:/home/raphael/PycharmProjects/freqgym/run_env.ipynb#ch0000013?line=7'>8</a>\u001B[0m )\n\u001B[1;32m     <a href='vscode-notebook-cell:/home/raphael/PycharmProjects/freqgym/run_env.ipynb#ch0000013?line=9'>10</a>\u001B[0m \u001B[39m# wandb.watch(model)\u001B[39;00m\n\u001B[0;32m---> <a href='vscode-notebook-cell:/home/raphael/PycharmProjects/freqgym/run_env.ipynb#ch0000013?line=10'>11</a>\u001B[0m model\u001B[39m.\u001B[39;49mlearn(total_timesteps\u001B[39m=\u001B[39;49mLEARNING_TIME_STEPS, callback\u001B[39m=\u001B[39;49mcallback)\n",
      "File \u001B[0;32m~/PycharmProjects/freqgym/venv/lib/python3.9/site-packages/sb3_contrib/ppo_recurrent/ppo_recurrent.py:507\u001B[0m, in \u001B[0;36mRecurrentPPO.learn\u001B[0;34m(self, total_timesteps, callback, log_interval, eval_env, eval_freq, n_eval_episodes, tb_log_name, eval_log_path, reset_num_timesteps)\u001B[0m\n\u001B[1;32m    <a href='file:///home/raphael/PycharmProjects/freqgym/venv/lib/python3.9/site-packages/sb3_contrib/ppo_recurrent/ppo_recurrent.py?line=502'>503</a>\u001B[0m callback\u001B[39m.\u001B[39mon_training_start(\u001B[39mlocals\u001B[39m(), \u001B[39mglobals\u001B[39m())\n\u001B[1;32m    <a href='file:///home/raphael/PycharmProjects/freqgym/venv/lib/python3.9/site-packages/sb3_contrib/ppo_recurrent/ppo_recurrent.py?line=504'>505</a>\u001B[0m \u001B[39mwhile\u001B[39;00m \u001B[39mself\u001B[39m\u001B[39m.\u001B[39mnum_timesteps \u001B[39m<\u001B[39m total_timesteps:\n\u001B[0;32m--> <a href='file:///home/raphael/PycharmProjects/freqgym/venv/lib/python3.9/site-packages/sb3_contrib/ppo_recurrent/ppo_recurrent.py?line=506'>507</a>\u001B[0m     continue_training \u001B[39m=\u001B[39m \u001B[39mself\u001B[39;49m\u001B[39m.\u001B[39;49mcollect_rollouts(\u001B[39mself\u001B[39;49m\u001B[39m.\u001B[39;49menv, callback, \u001B[39mself\u001B[39;49m\u001B[39m.\u001B[39;49mrollout_buffer, n_rollout_steps\u001B[39m=\u001B[39;49m\u001B[39mself\u001B[39;49m\u001B[39m.\u001B[39;49mn_steps)\n\u001B[1;32m    <a href='file:///home/raphael/PycharmProjects/freqgym/venv/lib/python3.9/site-packages/sb3_contrib/ppo_recurrent/ppo_recurrent.py?line=508'>509</a>\u001B[0m     \u001B[39mif\u001B[39;00m continue_training \u001B[39mis\u001B[39;00m \u001B[39mFalse\u001B[39;00m:\n\u001B[1;32m    <a href='file:///home/raphael/PycharmProjects/freqgym/venv/lib/python3.9/site-packages/sb3_contrib/ppo_recurrent/ppo_recurrent.py?line=509'>510</a>\u001B[0m         \u001B[39mbreak\u001B[39;00m\n",
      "File \u001B[0;32m~/PycharmProjects/freqgym/venv/lib/python3.9/site-packages/sb3_contrib/ppo_recurrent/ppo_recurrent.py:291\u001B[0m, in \u001B[0;36mRecurrentPPO.collect_rollouts\u001B[0;34m(self, env, callback, rollout_buffer, n_rollout_steps)\u001B[0m\n\u001B[1;32m    <a href='file:///home/raphael/PycharmProjects/freqgym/venv/lib/python3.9/site-packages/sb3_contrib/ppo_recurrent/ppo_recurrent.py?line=287'>288</a>\u001B[0m \u001B[39mif\u001B[39;00m \u001B[39misinstance\u001B[39m(\u001B[39mself\u001B[39m\u001B[39m.\u001B[39maction_space, gym\u001B[39m.\u001B[39mspaces\u001B[39m.\u001B[39mBox):\n\u001B[1;32m    <a href='file:///home/raphael/PycharmProjects/freqgym/venv/lib/python3.9/site-packages/sb3_contrib/ppo_recurrent/ppo_recurrent.py?line=288'>289</a>\u001B[0m     clipped_actions \u001B[39m=\u001B[39m np\u001B[39m.\u001B[39mclip(actions, \u001B[39mself\u001B[39m\u001B[39m.\u001B[39maction_space\u001B[39m.\u001B[39mlow, \u001B[39mself\u001B[39m\u001B[39m.\u001B[39maction_space\u001B[39m.\u001B[39mhigh)\n\u001B[0;32m--> <a href='file:///home/raphael/PycharmProjects/freqgym/venv/lib/python3.9/site-packages/sb3_contrib/ppo_recurrent/ppo_recurrent.py?line=290'>291</a>\u001B[0m new_obs, rewards, dones, infos \u001B[39m=\u001B[39m env\u001B[39m.\u001B[39;49mstep(clipped_actions)\n\u001B[1;32m    <a href='file:///home/raphael/PycharmProjects/freqgym/venv/lib/python3.9/site-packages/sb3_contrib/ppo_recurrent/ppo_recurrent.py?line=292'>293</a>\u001B[0m \u001B[39mself\u001B[39m\u001B[39m.\u001B[39mnum_timesteps \u001B[39m+\u001B[39m\u001B[39m=\u001B[39m env\u001B[39m.\u001B[39mnum_envs\n\u001B[1;32m    <a href='file:///home/raphael/PycharmProjects/freqgym/venv/lib/python3.9/site-packages/sb3_contrib/ppo_recurrent/ppo_recurrent.py?line=294'>295</a>\u001B[0m \u001B[39m# Give access to local variables\u001B[39;00m\n",
      "File \u001B[0;32m~/PycharmProjects/freqgym/venv/lib/python3.9/site-packages/stable_baselines3/common/vec_env/base_vec_env.py:162\u001B[0m, in \u001B[0;36mVecEnv.step\u001B[0;34m(self, actions)\u001B[0m\n\u001B[1;32m    <a href='file:///home/raphael/PycharmProjects/freqgym/venv/lib/python3.9/site-packages/stable_baselines3/common/vec_env/base_vec_env.py?line=154'>155</a>\u001B[0m \u001B[39m\"\"\"\u001B[39;00m\n\u001B[1;32m    <a href='file:///home/raphael/PycharmProjects/freqgym/venv/lib/python3.9/site-packages/stable_baselines3/common/vec_env/base_vec_env.py?line=155'>156</a>\u001B[0m \u001B[39mStep the environments with the given action\u001B[39;00m\n\u001B[1;32m    <a href='file:///home/raphael/PycharmProjects/freqgym/venv/lib/python3.9/site-packages/stable_baselines3/common/vec_env/base_vec_env.py?line=156'>157</a>\u001B[0m \n\u001B[1;32m    <a href='file:///home/raphael/PycharmProjects/freqgym/venv/lib/python3.9/site-packages/stable_baselines3/common/vec_env/base_vec_env.py?line=157'>158</a>\u001B[0m \u001B[39m:param actions: the action\u001B[39;00m\n\u001B[1;32m    <a href='file:///home/raphael/PycharmProjects/freqgym/venv/lib/python3.9/site-packages/stable_baselines3/common/vec_env/base_vec_env.py?line=158'>159</a>\u001B[0m \u001B[39m:return: observation, reward, done, information\u001B[39;00m\n\u001B[1;32m    <a href='file:///home/raphael/PycharmProjects/freqgym/venv/lib/python3.9/site-packages/stable_baselines3/common/vec_env/base_vec_env.py?line=159'>160</a>\u001B[0m \u001B[39m\"\"\"\u001B[39;00m\n\u001B[1;32m    <a href='file:///home/raphael/PycharmProjects/freqgym/venv/lib/python3.9/site-packages/stable_baselines3/common/vec_env/base_vec_env.py?line=160'>161</a>\u001B[0m \u001B[39mself\u001B[39m\u001B[39m.\u001B[39mstep_async(actions)\n\u001B[0;32m--> <a href='file:///home/raphael/PycharmProjects/freqgym/venv/lib/python3.9/site-packages/stable_baselines3/common/vec_env/base_vec_env.py?line=161'>162</a>\u001B[0m \u001B[39mreturn\u001B[39;00m \u001B[39mself\u001B[39;49m\u001B[39m.\u001B[39;49mstep_wait()\n",
      "File \u001B[0;32m~/PycharmProjects/freqgym/venv/lib/python3.9/site-packages/stable_baselines3/common/vec_env/dummy_vec_env.py:43\u001B[0m, in \u001B[0;36mDummyVecEnv.step_wait\u001B[0;34m(self)\u001B[0m\n\u001B[1;32m     <a href='file:///home/raphael/PycharmProjects/freqgym/venv/lib/python3.9/site-packages/stable_baselines3/common/vec_env/dummy_vec_env.py?line=40'>41</a>\u001B[0m \u001B[39mdef\u001B[39;00m \u001B[39mstep_wait\u001B[39m(\u001B[39mself\u001B[39m) \u001B[39m-\u001B[39m\u001B[39m>\u001B[39m VecEnvStepReturn:\n\u001B[1;32m     <a href='file:///home/raphael/PycharmProjects/freqgym/venv/lib/python3.9/site-packages/stable_baselines3/common/vec_env/dummy_vec_env.py?line=41'>42</a>\u001B[0m     \u001B[39mfor\u001B[39;00m env_idx \u001B[39min\u001B[39;00m \u001B[39mrange\u001B[39m(\u001B[39mself\u001B[39m\u001B[39m.\u001B[39mnum_envs):\n\u001B[0;32m---> <a href='file:///home/raphael/PycharmProjects/freqgym/venv/lib/python3.9/site-packages/stable_baselines3/common/vec_env/dummy_vec_env.py?line=42'>43</a>\u001B[0m         obs, \u001B[39mself\u001B[39m\u001B[39m.\u001B[39mbuf_rews[env_idx], \u001B[39mself\u001B[39m\u001B[39m.\u001B[39mbuf_dones[env_idx], \u001B[39mself\u001B[39m\u001B[39m.\u001B[39mbuf_infos[env_idx] \u001B[39m=\u001B[39m \u001B[39mself\u001B[39;49m\u001B[39m.\u001B[39;49menvs[env_idx]\u001B[39m.\u001B[39;49mstep(\n\u001B[1;32m     <a href='file:///home/raphael/PycharmProjects/freqgym/venv/lib/python3.9/site-packages/stable_baselines3/common/vec_env/dummy_vec_env.py?line=43'>44</a>\u001B[0m             \u001B[39mself\u001B[39;49m\u001B[39m.\u001B[39;49mactions[env_idx]\n\u001B[1;32m     <a href='file:///home/raphael/PycharmProjects/freqgym/venv/lib/python3.9/site-packages/stable_baselines3/common/vec_env/dummy_vec_env.py?line=44'>45</a>\u001B[0m         )\n\u001B[1;32m     <a href='file:///home/raphael/PycharmProjects/freqgym/venv/lib/python3.9/site-packages/stable_baselines3/common/vec_env/dummy_vec_env.py?line=45'>46</a>\u001B[0m         \u001B[39mif\u001B[39;00m \u001B[39mself\u001B[39m\u001B[39m.\u001B[39mbuf_dones[env_idx]:\n\u001B[1;32m     <a href='file:///home/raphael/PycharmProjects/freqgym/venv/lib/python3.9/site-packages/stable_baselines3/common/vec_env/dummy_vec_env.py?line=46'>47</a>\u001B[0m             \u001B[39m# save final observation where user can get it, then reset\u001B[39;00m\n\u001B[1;32m     <a href='file:///home/raphael/PycharmProjects/freqgym/venv/lib/python3.9/site-packages/stable_baselines3/common/vec_env/dummy_vec_env.py?line=47'>48</a>\u001B[0m             \u001B[39mself\u001B[39m\u001B[39m.\u001B[39mbuf_infos[env_idx][\u001B[39m\"\u001B[39m\u001B[39mterminal_observation\u001B[39m\u001B[39m\"\u001B[39m] \u001B[39m=\u001B[39m obs\n",
      "File \u001B[0;32m~/PycharmProjects/freqgym/venv/lib/python3.9/site-packages/stable_baselines3/common/monitor.py:90\u001B[0m, in \u001B[0;36mMonitor.step\u001B[0;34m(self, action)\u001B[0m\n\u001B[1;32m     <a href='file:///home/raphael/PycharmProjects/freqgym/venv/lib/python3.9/site-packages/stable_baselines3/common/monitor.py?line=87'>88</a>\u001B[0m \u001B[39mif\u001B[39;00m \u001B[39mself\u001B[39m\u001B[39m.\u001B[39mneeds_reset:\n\u001B[1;32m     <a href='file:///home/raphael/PycharmProjects/freqgym/venv/lib/python3.9/site-packages/stable_baselines3/common/monitor.py?line=88'>89</a>\u001B[0m     \u001B[39mraise\u001B[39;00m \u001B[39mRuntimeError\u001B[39;00m(\u001B[39m\"\u001B[39m\u001B[39mTried to step environment that needs reset\u001B[39m\u001B[39m\"\u001B[39m)\n\u001B[0;32m---> <a href='file:///home/raphael/PycharmProjects/freqgym/venv/lib/python3.9/site-packages/stable_baselines3/common/monitor.py?line=89'>90</a>\u001B[0m observation, reward, done, info \u001B[39m=\u001B[39m \u001B[39mself\u001B[39;49m\u001B[39m.\u001B[39;49menv\u001B[39m.\u001B[39;49mstep(action)\n\u001B[1;32m     <a href='file:///home/raphael/PycharmProjects/freqgym/venv/lib/python3.9/site-packages/stable_baselines3/common/monitor.py?line=90'>91</a>\u001B[0m \u001B[39mself\u001B[39m\u001B[39m.\u001B[39mrewards\u001B[39m.\u001B[39mappend(reward)\n\u001B[1;32m     <a href='file:///home/raphael/PycharmProjects/freqgym/venv/lib/python3.9/site-packages/stable_baselines3/common/monitor.py?line=91'>92</a>\u001B[0m \u001B[39mif\u001B[39;00m done:\n",
      "File \u001B[0;32m~/PycharmProjects/freqgym/trading_environments/my_freqtrade_env4.py:470\u001B[0m, in \u001B[0;36mSagesFreqtradeEnv4.step\u001B[0;34m(self, action)\u001B[0m\n\u001B[1;32m    <a href='file:///home/raphael/PycharmProjects/freqgym/trading_environments/my_freqtrade_env4.py?line=465'>466</a>\u001B[0m observation \u001B[39m=\u001B[39m \u001B[39mself\u001B[39m\u001B[39m.\u001B[39m_get_observation()\n\u001B[1;32m    <a href='file:///home/raphael/PycharmProjects/freqgym/trading_environments/my_freqtrade_env4.py?line=466'>467</a>\u001B[0m \u001B[39m# print(\"Last ticker of observation: \", observation[-1])\u001B[39;00m\n\u001B[1;32m    <a href='file:///home/raphael/PycharmProjects/freqgym/trading_environments/my_freqtrade_env4.py?line=467'>468</a>\u001B[0m \u001B[39m# print(\"Next ticker: \", self.data.iloc[self._current_tick + 1][\"return\"])\u001B[39;00m\n\u001B[0;32m--> <a href='file:///home/raphael/PycharmProjects/freqgym/trading_environments/my_freqtrade_env4.py?line=469'>470</a>\u001B[0m \u001B[39mreturn\u001B[39;00m observation, \u001B[39mself\u001B[39m\u001B[39m.\u001B[39mstep_reward, done, \u001B[39mself\u001B[39;49m\u001B[39m.\u001B[39;49mget_info()\u001B[39m.\u001B[39mcopy()\n",
      "File \u001B[0;32m~/PycharmProjects/freqgym/trading_environments/my_freqtrade_env4.py:483\u001B[0m, in \u001B[0;36mSagesFreqtradeEnv4.get_info\u001B[0;34m(self)\u001B[0m\n\u001B[1;32m    <a href='file:///home/raphael/PycharmProjects/freqgym/trading_environments/my_freqtrade_env4.py?line=471'>472</a>\u001B[0m \u001B[39mdef\u001B[39;00m \u001B[39mget_info\u001B[39m(\u001B[39mself\u001B[39m):\n\u001B[1;32m    <a href='file:///home/raphael/PycharmProjects/freqgym/trading_environments/my_freqtrade_env4.py?line=472'>473</a>\u001B[0m     info \u001B[39m=\u001B[39m {\n\u001B[1;32m    <a href='file:///home/raphael/PycharmProjects/freqgym/trading_environments/my_freqtrade_env4.py?line=473'>474</a>\u001B[0m         \u001B[39m# \"step\": self._current_tick,\u001B[39;00m\n\u001B[1;32m    <a href='file:///home/raphael/PycharmProjects/freqgym/trading_environments/my_freqtrade_env4.py?line=474'>475</a>\u001B[0m         \u001B[39m\"\u001B[39m\u001B[39mtotal_reward\u001B[39m\u001B[39m\"\u001B[39m: \u001B[39mself\u001B[39m\u001B[39m.\u001B[39mtotal_reward,\n\u001B[1;32m    <a href='file:///home/raphael/PycharmProjects/freqgym/trading_environments/my_freqtrade_env4.py?line=475'>476</a>\u001B[0m         \u001B[39m\"\u001B[39m\u001B[39mbalance\u001B[39m\u001B[39m\"\u001B[39m: \u001B[39mself\u001B[39m\u001B[39m.\u001B[39mcurrent_balance,\n\u001B[1;32m    <a href='file:///home/raphael/PycharmProjects/freqgym/trading_environments/my_freqtrade_env4.py?line=476'>477</a>\u001B[0m         \u001B[39m\"\u001B[39m\u001B[39mtrades\u001B[39m\u001B[39m\"\u001B[39m: \u001B[39mlen\u001B[39m(\u001B[39mself\u001B[39m\u001B[39m.\u001B[39mclosed_trades),\n\u001B[1;32m    <a href='file:///home/raphael/PycharmProjects/freqgym/trading_environments/my_freqtrade_env4.py?line=477'>478</a>\u001B[0m         \u001B[39m\"\u001B[39m\u001B[39mtotal_profit_pct\u001B[39m\u001B[39m\"\u001B[39m: \u001B[39mround\u001B[39m(get_total_profit_percent(\u001B[39mself\u001B[39m\u001B[39m.\u001B[39mclosed_trades), \u001B[39m2\u001B[39m),\n\u001B[1;32m    <a href='file:///home/raphael/PycharmProjects/freqgym/trading_environments/my_freqtrade_env4.py?line=478'>479</a>\u001B[0m         \u001B[39m\"\u001B[39m\u001B[39mcustom_score\u001B[39m\u001B[39m\"\u001B[39m: \u001B[39mround\u001B[39m(\n\u001B[1;32m    <a href='file:///home/raphael/PycharmProjects/freqgym/trading_environments/my_freqtrade_env4.py?line=479'>480</a>\u001B[0m             \u001B[39mlen\u001B[39m(\u001B[39mself\u001B[39m\u001B[39m.\u001B[39mclosed_trades) \u001B[39m*\u001B[39m get_total_profit_percent(\u001B[39mself\u001B[39m\u001B[39m.\u001B[39mclosed_trades),\n\u001B[1;32m    <a href='file:///home/raphael/PycharmProjects/freqgym/trading_environments/my_freqtrade_env4.py?line=480'>481</a>\u001B[0m             \u001B[39m2\u001B[39m,\n\u001B[1;32m    <a href='file:///home/raphael/PycharmProjects/freqgym/trading_environments/my_freqtrade_env4.py?line=481'>482</a>\u001B[0m         ),\n\u001B[0;32m--> <a href='file:///home/raphael/PycharmProjects/freqgym/trading_environments/my_freqtrade_env4.py?line=482'>483</a>\u001B[0m         \u001B[39m\"\u001B[39m\u001B[39mavg_profit_pct\u001B[39m\u001B[39m\"\u001B[39m: \u001B[39mround\u001B[39m(get_average_ratio(\u001B[39mself\u001B[39;49m\u001B[39m.\u001B[39;49mclosed_trades), \u001B[39m2\u001B[39m),\n\u001B[1;32m    <a href='file:///home/raphael/PycharmProjects/freqgym/trading_environments/my_freqtrade_env4.py?line=483'>484</a>\u001B[0m         \u001B[39m\"\u001B[39m\u001B[39mwinning_trades\u001B[39m\u001B[39m\"\u001B[39m: \u001B[39mlen\u001B[39m(\u001B[39mself\u001B[39m\u001B[39m.\u001B[39mwinning_trades),\n\u001B[1;32m    <a href='file:///home/raphael/PycharmProjects/freqgym/trading_environments/my_freqtrade_env4.py?line=484'>485</a>\u001B[0m         \u001B[39m\"\u001B[39m\u001B[39mlosing_trades\u001B[39m\u001B[39m\"\u001B[39m: \u001B[39mlen\u001B[39m(\u001B[39mself\u001B[39m\u001B[39m.\u001B[39mlosing_trades),\n\u001B[1;32m    <a href='file:///home/raphael/PycharmProjects/freqgym/trading_environments/my_freqtrade_env4.py?line=485'>486</a>\u001B[0m         \u001B[39m\"\u001B[39m\u001B[39mwin_ratio\u001B[39m\u001B[39m\"\u001B[39m: \u001B[39mround\u001B[39m(\n\u001B[1;32m    <a href='file:///home/raphael/PycharmProjects/freqgym/trading_environments/my_freqtrade_env4.py?line=486'>487</a>\u001B[0m             calc_win_ratio(\u001B[39mself\u001B[39m\u001B[39m.\u001B[39mwinning_trades, \u001B[39mself\u001B[39m\u001B[39m.\u001B[39mlosing_trades), \u001B[39m2\u001B[39m\n\u001B[1;32m    <a href='file:///home/raphael/PycharmProjects/freqgym/trading_environments/my_freqtrade_env4.py?line=487'>488</a>\u001B[0m         ),\n\u001B[1;32m    <a href='file:///home/raphael/PycharmProjects/freqgym/trading_environments/my_freqtrade_env4.py?line=488'>489</a>\u001B[0m         \u001B[39m\"\u001B[39m\u001B[39maverage_duration (d)\u001B[39m\u001B[39m\"\u001B[39m: get_average_trade_duration(\n\u001B[1;32m    <a href='file:///home/raphael/PycharmProjects/freqgym/trading_environments/my_freqtrade_env4.py?line=489'>490</a>\u001B[0m             \u001B[39mself\u001B[39m\u001B[39m.\u001B[39mclosed_trades\n\u001B[1;32m    <a href='file:///home/raphael/PycharmProjects/freqgym/trading_environments/my_freqtrade_env4.py?line=490'>491</a>\u001B[0m         )\u001B[39m.\u001B[39mtotal_seconds()\n\u001B[1;32m    <a href='file:///home/raphael/PycharmProjects/freqgym/trading_environments/my_freqtrade_env4.py?line=491'>492</a>\u001B[0m         \u001B[39m/\u001B[39m \u001B[39m3600\u001B[39m\n\u001B[1;32m    <a href='file:///home/raphael/PycharmProjects/freqgym/trading_environments/my_freqtrade_env4.py?line=492'>493</a>\u001B[0m         \u001B[39m/\u001B[39m \u001B[39m24\u001B[39m,\n\u001B[1;32m    <a href='file:///home/raphael/PycharmProjects/freqgym/trading_environments/my_freqtrade_env4.py?line=493'>494</a>\u001B[0m         \u001B[39m# \"reward\": self.step_reward,\u001B[39;00m\n\u001B[1;32m    <a href='file:///home/raphael/PycharmProjects/freqgym/trading_environments/my_freqtrade_env4.py?line=494'>495</a>\u001B[0m     }\n\u001B[1;32m    <a href='file:///home/raphael/PycharmProjects/freqgym/trading_environments/my_freqtrade_env4.py?line=496'>497</a>\u001B[0m     \u001B[39mreturn\u001B[39;00m info\n",
      "File \u001B[0;32m~/PycharmProjects/freqgym/trading_environments/util.py:16\u001B[0m, in \u001B[0;36mget_average_ratio\u001B[0;34m(trades)\u001B[0m\n\u001B[1;32m     <a href='file:///home/raphael/PycharmProjects/freqgym/trading_environments/util.py?line=13'>14</a>\u001B[0m \u001B[39mif\u001B[39;00m \u001B[39mlen\u001B[39m(trades) \u001B[39m==\u001B[39m \u001B[39m0\u001B[39m:\n\u001B[1;32m     <a href='file:///home/raphael/PycharmProjects/freqgym/trading_environments/util.py?line=14'>15</a>\u001B[0m     \u001B[39mreturn\u001B[39;00m \u001B[39m0\u001B[39m\n\u001B[0;32m---> <a href='file:///home/raphael/PycharmProjects/freqgym/trading_environments/util.py?line=15'>16</a>\u001B[0m \u001B[39mreturn\u001B[39;00m \u001B[39msum\u001B[39m([t\u001B[39m.\u001B[39mcalc_profit_ratio() \u001B[39mfor\u001B[39;00m t \u001B[39min\u001B[39;00m trades]) \u001B[39m/\u001B[39m \u001B[39mlen\u001B[39m(trades) \u001B[39m*\u001B[39m \u001B[39m100\u001B[39m\n",
      "File \u001B[0;32m~/PycharmProjects/freqgym/trading_environments/util.py:16\u001B[0m, in \u001B[0;36m<listcomp>\u001B[0;34m(.0)\u001B[0m\n\u001B[1;32m     <a href='file:///home/raphael/PycharmProjects/freqgym/trading_environments/util.py?line=13'>14</a>\u001B[0m \u001B[39mif\u001B[39;00m \u001B[39mlen\u001B[39m(trades) \u001B[39m==\u001B[39m \u001B[39m0\u001B[39m:\n\u001B[1;32m     <a href='file:///home/raphael/PycharmProjects/freqgym/trading_environments/util.py?line=14'>15</a>\u001B[0m     \u001B[39mreturn\u001B[39;00m \u001B[39m0\u001B[39m\n\u001B[0;32m---> <a href='file:///home/raphael/PycharmProjects/freqgym/trading_environments/util.py?line=15'>16</a>\u001B[0m \u001B[39mreturn\u001B[39;00m \u001B[39msum\u001B[39m([t\u001B[39m.\u001B[39;49mcalc_profit_ratio() \u001B[39mfor\u001B[39;00m t \u001B[39min\u001B[39;00m trades]) \u001B[39m/\u001B[39m \u001B[39mlen\u001B[39m(trades) \u001B[39m*\u001B[39m \u001B[39m100\u001B[39m\n",
      "\u001B[0;31mKeyboardInterrupt\u001B[0m: "
     ]
    },
    {
     "name": "stderr",
     "output_type": "stream",
     "text": [
      "wandb: Network error (ReadTimeout), entering retry loop.\n"
     ]
    }
   ],
   "source": [
    "from wandb.integration.sb3 import WandbCallback\n",
    "\n",
    "logger.info(\"Learning started.\")\n",
    "callback = WandbCallback(\n",
    "    model_save_path=f\"models/best_model_{run.id}\",\n",
    "    verbose=2,\n",
    "    model_save_freq=len(data) * 5,\n",
    ")\n",
    "\n",
    "# wandb.watch(model)\n",
    "model.learn(total_timesteps=LEARNING_TIME_STEPS, callback=callback)\n"
   ]
  },
  {
   "cell_type": "code",
   "execution_count": null,
   "metadata": {
    "pycharm": {
     "name": "#%%\n"
    }
   },
   "outputs": [],
   "source": [
    "model.save(MODEL_DIR / f\"final_model_{base_name}\")\n",
    "print(\"Model saved to:\", MODEL_DIR / f\"final_model_{base_name}\")"
   ]
  },
  {
   "cell_type": "code",
   "execution_count": null,
   "metadata": {
    "pycharm": {
     "name": "#%%\n"
    }
   },
   "outputs": [],
   "source": [
    "env.trades_as_df"
   ]
  },
  {
   "cell_type": "code",
   "execution_count": null,
   "metadata": {
    "pycharm": {
     "name": "#%%\n"
    }
   },
   "outputs": [],
   "source": [
    "len(env.buy_observation_map)\n",
    "print(env.buy_observation_map[(100,1)])\n",
    "print(env.sell_observation_map[(100,2)])"
   ]
  },
  {
   "cell_type": "markdown",
   "metadata": {
    "pycharm": {
     "name": "#%% md\n"
    }
   },
   "source": [
    "### Test"
   ]
  },
  {
   "cell_type": "code",
   "execution_count": null,
   "metadata": {
    "pycharm": {
     "name": "#%%\n"
    }
   },
   "outputs": [],
   "source": [
    "from lazyft.command_parameters import BacktestParameters\n",
    "\n",
    "params = BacktestParameters(\n",
    "    config_path=\"user_data/config.json\",\n",
    "    timerange=TRAINING_RANGE,\n",
    "    interval=TIMEFRAME,\n",
    "    # days=365,\n",
    "    stake_amount=STAKE_AMOUNT,\n",
    "    starting_balance=STARTING_CAPITAL,\n",
    "    max_open_trades=1,\n",
    "    pairs=[\n",
    "        'BTC/USDT',\n",
    "        # 'ETH/USDT',\n",
    "    ],\n",
    "    download_data=True,\n",
    "    custom_settings={\n",
    "        'model_path': str((MODEL_DIR / f\"final_model_SagesGym5_SagesFreqtradeEnv_RecurrentPPO_20220430_210952\").absolute().stem),\n",
    "    }\n",
    ")\n",
    "\n",
    "runner = params.run('SagesGym5', load_from_hash=False)\n",
    "\n"
   ]
  },
  {
   "cell_type": "code",
   "execution_count": null,
   "metadata": {
    "pycharm": {
     "name": "#%%\n"
    }
   },
   "outputs": [],
   "source": [
    "report = runner.save()\n",
    "print(f'Sortino: {report.sortino_loss}', f'Sharpe: {report.sharp_loss}', sep='\\n')"
   ]
  },
  {
   "cell_type": "code",
   "execution_count": null,
   "metadata": {
    "pycharm": {
     "name": "#%%\n"
    }
   },
   "outputs": [],
   "source": [
    "!freqtrade backtesting -c /home/raphael/PycharmProjects/freqgym/user_data/config.json --user-data-dir /home/raphael/PycharmProjects/freqgym/user_data --strategy-path /home/raphael/PycharmProjects/freqgym/user_data/strategies --timerange {TRAINING_RANGE} --pairs BTC/USDT --starting-balance 1000 --stake-amount 100 --max-open-trades 1 --timeframe 1d -s SagesGym5 --cache none"
   ]
  },
  {
   "cell_type": "code",
   "execution_count": null,
   "metadata": {
    "pycharm": {
     "name": "#%%\n"
    }
   },
   "outputs": [],
   "source": [
    "report.trades"
   ]
  },
  {
   "cell_type": "code",
   "execution_count": null,
   "metadata": {
    "pycharm": {
     "name": "#%%\n"
    }
   },
   "outputs": [],
   "source": []
  }
 ],
 "metadata": {
  "interpreter": {
   "hash": "f32f1986c73fc4a593048bc4d1f0a2ff4b2a2c2acbecf7fc796cabe94e83bd29"
  },
  "kernelspec": {
   "display_name": "Python 3.9.12 ('venv': venv)",
   "language": "python",
   "name": "python3"
  },
  "language_info": {
   "codemirror_mode": {
    "name": "ipython",
    "version": 3
   },
   "file_extension": ".py",
   "mimetype": "text/x-python",
   "name": "python",
   "nbconvert_exporter": "python",
   "pygments_lexer": "ipython3",
   "version": "3.9.12"
  },
  "orig_nbformat": 4
 },
 "nbformat": 4,
 "nbformat_minor": 2
}
