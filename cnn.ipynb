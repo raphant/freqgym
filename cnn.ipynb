{
 "cells": [
  {
   "cell_type": "code",
   "execution_count": 1,
   "metadata": {
    "collapsed": true
   },
   "outputs": [],
   "source": [
    "import datetime as dt\n",
    "\n",
    "import pandas as pd\n",
    "from keras import Sequential\n",
    "from keras.losses import categorical_crossentropy\n",
    "from lazyft.data_loader import load_pair_data\n",
    "\n",
    "from time_series_to_gaf.constants import TRAIN_IMAGES_PATH, REPO\n",
    "import keras\n",
    "from keras.initializers import initializers_v2 as initializer\n",
    "\n",
    "from time_series_to_gaf.preprocess import data_to_image_preprocess\n",
    "from time_series_to_gaf.constants import TEST_IMAGES_PATH\n",
    "from time_series_to_gaf.cnn_model import create_cnn\n",
    "from keras_preprocessing.image import ImageDataGenerator\n",
    "from keras.optimizer_v2.adam import Adam\n",
    "import tensorflow as tf\n",
    "tf.config.run_functions_eagerly(True)"
   ]
  },
  {
   "cell_type": "code",
   "execution_count": null,
   "outputs": [],
   "source": [
    "pair = 'BTC/USDT'\n",
    "SPLIT = 0.30\n",
    "LR = 0.001\n",
    "TIMESTAMP = dt.datetime.now().strftime(\"%Y%m%d%H%M%S\")\n",
    "# cnn_networks = 1\n",
    "models: list[keras.Sequential] = []\n",
    "image_train_path = TRAIN_IMAGES_PATH / pair.replace('/', '_')\n",
    "image_test_path = TEST_IMAGES_PATH / pair.replace('/', '_')\n",
    "image_train_path.mkdir(parents=True, exist_ok=True)\n",
    "image_test_path.mkdir(parents=True, exist_ok=True)\n",
    "data_to_image_preprocess(\n",
    "    timerange='20170101-20211231', image_save_path=image_train_path, pair=pair, interval='1h'\n",
    ")\n",
    "data_to_image_preprocess(timerange='20220101-', pair=pair, image_save_path=image_test_path)\n",
    "\n",
    "# global history, string_list, summary\n",
    "target_size = 40\n",
    "batch_size = 20\n",
    "EPOCHS = 10"
   ],
   "metadata": {
    "collapsed": false,
    "pycharm": {
     "name": "#%%\n"
    }
   }
  },
  {
   "cell_type": "code",
   "execution_count": 7,
   "outputs": [
    {
     "name": "stdout",
     "output_type": "stream",
     "text": [
      "2022-04-03 09:45:23.250 | INFO     | lazyft.downloader:download_missing_historical_data:301 - Checking if download is needed for BTC/USDT @ 1h interval(s)\n",
      "2022-04-03 09:45:23.253 | INFO     | lazyft.downloader:download_missing_historical_data:338 - Data is up to date\n",
      "2022-04-03 09:45:23.315 | INFO     | lazyft.data_loader:load_pair_data:39 - Loaded 35041 rows for BTC/USDT, data starts at 2018-01-01 00:00:00+00:00\n",
      "Generating images...\n",
      "========PREPROCESS REPORT========:\n",
      "Total Data Points: 1461\n",
      "Total Images Created: 1441\n",
      "Total LONG positions: 700\n",
      "Total SHORT positions: 741\n",
      "2022-04-03 09:45:32.889 | INFO     | lazyft.downloader:download_missing_historical_data:301 - Checking if download is needed for BTC/USDT @ 1h interval(s)\n",
      "2022-04-03 09:45:32.891 | INFO     | lazyft.downloader:download_missing_historical_data:338 - Data is up to date\n",
      "2022-04-03 09:45:32.940 | INFO     | lazyft.data_loader:load_pair_data:39 - Loaded 2209 rows for BTC/USDT, data starts at 2022-01-01 00:00:00+00:00\n",
      "Generating images...\n",
      "========PREPROCESS REPORT========:\n",
      "Total Data Points: 93\n",
      "Total Images Created: 73\n",
      "Total LONG positions: 36\n",
      "Total SHORT positions: 37\n",
      "Found 73 images belonging to 2 classes.\n"
     ]
    }
   ],
   "source": [
    "\n",
    "\n",
    "initializers_ = [\n",
    "    initializer.Orthogonal(),\n",
    "    initializer.LecunUniform(),\n",
    "    initializer.VarianceScaling(),\n",
    "    initializer.RandomNormal(),\n",
    "    initializer.RandomUniform(),\n",
    "    initializer.TruncatedNormal(),\n",
    "    initializer.GlorotNormal(),\n",
    "    initializer.GlorotUniform(),\n",
    "    initializer.HeNormal(),\n",
    "    initializer.HeUniform(),\n",
    "    initializer.Orthogonal(seed=42),\n",
    "    initializer.LecunUniform(seed=42),\n",
    "    initializer.VarianceScaling(seed=42),\n",
    "    initializer.RandomNormal(seed=42),\n",
    "    initializer.RandomUniform(seed=42),\n",
    "    initializer.TruncatedNormal(seed=42),\n",
    "    initializer.GlorotNormal(seed=42),\n",
    "    initializer.GlorotUniform(seed=42),\n",
    "    initializer.HeNormal(seed=42),\n",
    "    initializer.HeUniform(seed=42),\n",
    "]\n",
    "# for i, initializer_ in enumerate(initializers_):\n",
    "#     cnn = create_cnn(target_size, kernel_initializer=initializer_)\n",
    "#     # Compile each model\n",
    "#     cnn.compile(optimizer=Adam(learning_rate=LR), loss='binary_crossentropy', metrics=['acc'])\n",
    "#     models.append(cnn)\n",
    "\n",
    "# All images will be rescaled by 1./255\n",
    "train_validate_datagen = ImageDataGenerator(\n",
    "    rescale=1 / 255, validation_split=SPLIT\n",
    ")  # set validation split\n",
    "test_datagen = ImageDataGenerator(rescale=1 / 255)\n",
    "# data_chunks = ensemble_data(len(models), str(image_path))\n",
    "test_generator = test_datagen.flow_from_directory(\n",
    "    directory=image_test_path,\n",
    "    target_size=(target_size, target_size),\n",
    "    batch_size=batch_size,\n",
    ")"
   ],
   "metadata": {
    "collapsed": false,
    "pycharm": {
     "name": "#%%\n"
    }
   }
  },
  {
   "cell_type": "code",
   "execution_count": 3,
   "outputs": [],
   "source": [
    "def load_model(pair: str, time: str, model_name: str) -> Sequential:\n",
    "    model = create_cnn(40)\n",
    "    model_to_load = REPO / pair.replace('/', '_') / time / 'models' / model_name\n",
    "    model.load_weights(model_to_load)\n",
    "\n",
    "    return model\n",
    "model = load_model(pair, '20220403092229', 'HeUniform.h5')\n",
    "model.compile(\n",
    "            optimizer=Adam(learning_rate=LR), loss=categorical_crossentropy, metrics=['acc']\n",
    "        )"
   ],
   "metadata": {
    "collapsed": false,
    "pycharm": {
     "name": "#%%\n"
    }
   }
  },
  {
   "cell_type": "code",
   "execution_count": 11,
   "outputs": [
    {
     "name": "stdout",
     "output_type": "stream",
     "text": [
      "1/4 [======>.......................] - ETA: 0s - loss: 0.6396 - acc: 0.7500"
     ]
    },
    {
     "name": "stderr",
     "output_type": "stream",
     "text": [
      "/home/raphael/PycharmProjects/freqgym/venv/lib/python3.9/site-packages/tensorflow/python/data/ops/structured_function.py:264: UserWarning: Even though the `tf.config.experimental_run_functions_eagerly` option is set, this option does not apply to tf.data functions. To force eager execution of tf.data functions, please use `tf.data.experimental.enable_debug_mode()`.\n",
      "  warnings.warn(\n"
     ]
    },
    {
     "name": "stdout",
     "output_type": "stream",
     "text": [
      "4/4 [==============================] - 0s 109ms/step - loss: 0.6582 - acc: 0.6712\n",
      "Test accs: 67.12%\n"
     ]
    }
   ],
   "source": [
    "scores = model.evaluate(test_generator)\n",
    "print(\"Test {0}s: {1:.2f}%\".format(model.metrics_names[1], scores[1] * 100))\n",
    "string_list = []\n",
    "model.summary(print_fn=lambda x: string_list.append(x))\n",
    "string_list.append(f'test acc: {scores[1] * 100}')\n"
   ],
   "metadata": {
    "collapsed": false,
    "pycharm": {
     "name": "#%%\n"
    }
   }
  },
  {
   "cell_type": "code",
   "execution_count": 13,
   "outputs": [
    {
     "data": {
      "text/plain": "[0.6582338213920593, 0.6712328791618347]"
     },
     "execution_count": 13,
     "metadata": {},
     "output_type": "execute_result"
    }
   ],
   "source": [
    "scores"
   ],
   "metadata": {
    "collapsed": false,
    "pycharm": {
     "name": "#%%\n"
    }
   }
  },
  {
   "cell_type": "code",
   "execution_count": 15,
   "outputs": [],
   "source": [
    "sample = test_generator.next()"
   ],
   "metadata": {
    "collapsed": false,
    "pycharm": {
     "name": "#%%\n"
    }
   }
  },
  {
   "cell_type": "code",
   "execution_count": 16,
   "outputs": [
    {
     "data": {
      "text/plain": "{'LONG': 0, 'SHORT': 1}"
     },
     "execution_count": 16,
     "metadata": {},
     "output_type": "execute_result"
    }
   ],
   "source": [
    "test_generator.class_indices\n"
   ],
   "metadata": {
    "collapsed": false,
    "pycharm": {
     "name": "#%%\n"
    }
   }
  },
  {
   "cell_type": "markdown",
   "source": [],
   "metadata": {
    "collapsed": false
   }
  },
  {
   "cell_type": "markdown",
   "source": [],
   "metadata": {
    "collapsed": false
   }
  },
  {
   "cell_type": "code",
   "execution_count": 3,
   "outputs": [
    {
     "name": "stdout",
     "output_type": "stream",
     "text": [
      "2022-04-04 17:35:07.414 | INFO     | lazyft.downloader:download_missing_historical_data:301 - Checking if download is needed for BTC/USDT @ 5m interval(s)\n",
      "2022-04-04 17:35:07.419 | INFO     | lazyft.downloader:download:370 - Downloading 93 days worth of market data for BTC/USDT @ 5m ticker-interval(s)...\n",
      "2022-04-04 17:35:29.632 | INFO     | lazyft.downloader:download_watcher:430 - Downloaded history for BTC/USDT @ 5m (1/1)\n",
      "2022-04-04 17:35:29.634 | INFO     | lazyft.downloader:download_missing_historical_data:333 - Finished downloading data for 1 pairs @ 5m\n",
      "2022-04-04 17:35:29.634 | INFO     | lazyft.downloader:download_missing_historical_data:338 - Data is up to date\n",
      "2022-04-04 17:35:29.900 | INFO     | lazyft.data_loader:load_pair_data:39 - Loaded 27042 rows for BTC/USDT, data starts at 2022-01-01 00:00:00+00:00\n",
      "Elapsed time: 0:00:00.003820\n",
      "                       date  open  high   low  close  volume\n",
      "0 2022-01-01 00:00:00+00:00 46.3K 46.4K 46.3K  46.3K 117.776\n",
      "1 2022-01-01 00:30:00+00:00 46.6K 46.6K 46.5K  46.6K 132.779\n",
      "2 2022-01-01 01:00:00+00:00 46.7K 46.8K 46.7K  46.8K  98.251\n",
      "3 2022-01-01 01:30:00+00:00 46.8K 46.8K 46.8K  46.8K  59.051\n",
      "4 2022-01-01 02:00:00+00:00 46.8K 46.9K 46.8K  46.8K  45.586\n"
     ]
    }
   ],
   "source": [
    "from datetime import timedelta\n",
    "import time\n",
    "\n",
    "btc = load_pair_data('BTC/USDT', timeframe='5m', timerange='20220101-')\n",
    "\n",
    "# t1 = time.perf_counter()\n",
    "# sampled = btc.resample('4H').mean()\n",
    "# print('Elapsed time:', timedelta(seconds=time.perf_counter() - t1))\n",
    "t1 = time.perf_counter()\n",
    "gb = btc.groupby(pd.Grouper(key='date', freq='30min')).mean().reset_index()\n",
    "print('Elapsed time:', timedelta(seconds=time.perf_counter() - t1))\n",
    "# print(sampled.head())\n",
    "print(gb.head())\n"
   ],
   "metadata": {
    "collapsed": false,
    "pycharm": {
     "name": "#%%\n"
    }
   }
  },
  {
   "cell_type": "code",
   "execution_count": null,
   "outputs": [],
   "source": [],
   "metadata": {
    "collapsed": false,
    "pycharm": {
     "name": "#%%\n"
    }
   }
  }
 ],
 "metadata": {
  "kernelspec": {
   "display_name": "Python 3",
   "language": "python",
   "name": "python3"
  },
  "language_info": {
   "codemirror_mode": {
    "name": "ipython",
    "version": 2
   },
   "file_extension": ".py",
   "mimetype": "text/x-python",
   "name": "python",
   "nbconvert_exporter": "python",
   "pygments_lexer": "ipython2",
   "version": "2.7.6"
  }
 },
 "nbformat": 4,
 "nbformat_minor": 0
}